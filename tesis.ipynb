{
 "cells": [
  {
   "cell_type": "markdown",
   "metadata": {},
   "source": [
    "# Tesis"
   ]
  },
  {
   "cell_type": "markdown",
   "metadata": {},
   "source": [
    "Este es el cuaderno de Jupyter para la implementación de la tesis. <br >\n",
    "Este código utiliza el trabajo realizado por Diego Gomez (Poner aquí link al artículo de el, o el github o lo que sea) y lo aplica al problema de la regulación del nivel de glucosa en la sangre en pacientes Diabéticos Tipo 1. <br >\n",
    "Se utiliza la librería de \"simglucose\" que permite simular la dinámica de la glucosa, de acuerdo con el simulador aprobado por la FDA de UVa/Padova (Versión 2008). <br >\n",
    "Link de la librería de simglucose: https://github.com/jxx123/simglucose <br >\n",
    "Link del GitHub de Diego: https://github.com/tarod13 <br >"
   ]
  },
  {
   "cell_type": "markdown",
   "metadata": {},
   "source": [
    "# Tareas\n",
    "1. Entender bien la librería de simglucose: rewards, acciones, estados, todo eso. (En progreso: ~5%) \n",
    "2. Hacer lo del mapeo de estados a acciones: s->a (Sin comenzar: 0%)\n",
    "3. Hacer lo del mapeo de estados a Habilidades: s->A (Sin comenzar: 0%)\n",
    "4. Implementar lo de Diego para encontrar los conceptos: s->S (Sin comenzar: 0%)\n",
    "5. Analizar todo"
   ]
  },
  {
   "cell_type": "code",
   "execution_count": 1,
   "metadata": {},
   "outputs": [],
   "source": [
    "import numpy as np\n",
    "import simglucose"
   ]
  },
  {
   "cell_type": "code",
   "execution_count": null,
   "metadata": {},
   "outputs": [],
   "source": []
  }
 ],
 "metadata": {
  "kernelspec": {
   "display_name": "Python 3",
   "language": "python",
   "name": "python3"
  },
  "language_info": {
   "codemirror_mode": {
    "name": "ipython",
    "version": 3
   },
   "file_extension": ".py",
   "mimetype": "text/x-python",
   "name": "python",
   "nbconvert_exporter": "python",
   "pygments_lexer": "ipython3",
   "version": "3.6.9"
  }
 },
 "nbformat": 4,
 "nbformat_minor": 4
}
