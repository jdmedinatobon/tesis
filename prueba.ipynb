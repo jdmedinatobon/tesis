{
 "cells": [
  {
   "cell_type": "code",
   "execution_count": 2,
   "metadata": {},
   "outputs": [
    {
     "name": "stdout",
     "output_type": "stream",
     "text": [
      "Show animation? (y/n) y\n",
      "Use multiple processes? (y/n) y\n",
      "Folder name to save results [default]: \n",
      "Results will be saved in C:\\Users\\jdmed\\OneDrive - Universidad de Los Andes\\Uniandes\\Tesis\\results\\2020-01-20_14-50-38\n",
      "Input simulation time (hr): 1\n",
      "Select scnenario:\n",
      "[1] Random Scnenario\n",
      "[2] Custom Scnenario\n",
      ">>>1\n",
      "Select random seed for random scenario [None]: \n",
      "Input simulation start time (hr): 4\n",
      "Simulation start time is set to 2020-01-20 04:00:00.\n",
      "Select virtual patients:\n",
      "[1] All\n",
      "[2] All Adolescents\n",
      "[3] All Adults\n",
      "[4] All Children\n",
      "[5] By ID\n",
      ">>> 1\n",
      "Select the CGM sensor:\n",
      "[1] Dexcom\n",
      "[2] GuardianRT\n",
      "[3] Navigator\n",
      ">>> 1\n",
      "Select Random Seed for Sensor Noise [None]: \n",
      "Select the insulin pump:\n",
      "[1] Cozmo\n",
      "[2] Insulet\n",
      ">>> 1\n",
      "Select controller:\n",
      "[1] Basal-Bolus Controller\n",
      ">>>1\n"
     ]
    },
    {
     "ename": "ValueError",
     "evalue": "view limit minimum -0.10500000000000001 is less than 1 and is an invalid Matplotlib date value. This often happens if you pass a non-datetime value to an axis that has datetime units",
     "output_type": "error",
     "traceback": [
      "\u001b[1;31m---------------------------------------------------------------------------\u001b[0m",
      "\u001b[1;31mRemoteTraceback\u001b[0m                           Traceback (most recent call last)",
      "\u001b[1;31mRemoteTraceback\u001b[0m: \n\"\"\"\nTraceback (most recent call last):\n  File \"C:\\Users\\jdmed\\AppData\\Local\\conda\\conda\\envs\\tf_gpu\\lib\\site-packages\\multiprocess-0.70.9-py3.7.egg\\multiprocess\\pool.py\", line 121, in worker\n    result = (True, func(*args, **kwds))\n  File \"C:\\Users\\jdmed\\AppData\\Local\\conda\\conda\\envs\\tf_gpu\\lib\\site-packages\\multiprocess-0.70.9-py3.7.egg\\multiprocess\\pool.py\", line 44, in mapstar\n    return list(map(*args))\n  File \"C:\\Users\\jdmed\\AppData\\Local\\conda\\conda\\envs\\tf_gpu\\lib\\site-packages\\pathos-0.2.5-py3.7.egg\\pathos\\helpers\\mp_helper.py\", line 15, in <lambda>\n    func = lambda args: f(*args)\n  File \"C:\\Users\\jdmed\\AppData\\Local\\conda\\conda\\envs\\tf_gpu\\lib\\site-packages\\simglucose-0.2.1-py3.7.egg\\simglucose\\simulation\\sim_engine.py\", line 58, in sim\n    sim_object.simulate()\n  File \"C:\\Users\\jdmed\\AppData\\Local\\conda\\conda\\envs\\tf_gpu\\lib\\site-packages\\simglucose-0.2.1-py3.7.egg\\simglucose\\simulation\\sim_engine.py\", line 34, in simulate\n    self.env.render()\n  File \"C:\\Users\\jdmed\\AppData\\Local\\conda\\conda\\envs\\tf_gpu\\lib\\site-packages\\simglucose-0.2.1-py3.7.egg\\simglucose\\simulation\\env.py\", line 157, in render\n    self.viewer = Viewer(self.scenario.start_time, self.patient.name)\n  File \"C:\\Users\\jdmed\\AppData\\Local\\conda\\conda\\envs\\tf_gpu\\lib\\site-packages\\simglucose-0.2.1-py3.7.egg\\simglucose\\simulation\\rendering.py\", line 13, in __init__\n    self.fig, self.axes, self.lines = self.initialize()\n  File \"C:\\Users\\jdmed\\AppData\\Local\\conda\\conda\\envs\\tf_gpu\\lib\\site-packages\\simglucose-0.2.1-py3.7.egg\\simglucose\\simulation\\rendering.py\", line 42, in initialize\n    [self.start_time, self.start_time + timedelta(hours=3)])\n  File \"C:\\Users\\jdmed\\AppData\\Local\\conda\\conda\\envs\\tf_gpu\\lib\\site-packages\\matplotlib\\axes\\_base.py\", line 3238, in set_xlim\n    self._process_unit_info(xdata=(left, right))\n  File \"C:\\Users\\jdmed\\AppData\\Local\\conda\\conda\\envs\\tf_gpu\\lib\\site-packages\\matplotlib\\axes\\_base.py\", line 2123, in _process_unit_info\n    kwargs = _process_single_axis(xdata, self.xaxis, 'xunits', kwargs)\n  File \"C:\\Users\\jdmed\\AppData\\Local\\conda\\conda\\envs\\tf_gpu\\lib\\site-packages\\matplotlib\\axes\\_base.py\", line 2106, in _process_single_axis\n    axis.update_units(data)\n  File \"C:\\Users\\jdmed\\AppData\\Local\\conda\\conda\\envs\\tf_gpu\\lib\\site-packages\\matplotlib\\axis.py\", line 1499, in update_units\n    self._update_axisinfo()\n  File \"C:\\Users\\jdmed\\AppData\\Local\\conda\\conda\\envs\\tf_gpu\\lib\\site-packages\\matplotlib\\axis.py\", line 1517, in _update_axisinfo\n    self.set_major_locator(info.majloc)\n  File \"C:\\Users\\jdmed\\AppData\\Local\\conda\\conda\\envs\\tf_gpu\\lib\\site-packages\\matplotlib\\axis.py\", line 1652, in set_major_locator\n    self.stale = True\n  File \"C:\\Users\\jdmed\\AppData\\Local\\conda\\conda\\envs\\tf_gpu\\lib\\site-packages\\matplotlib\\artist.py\", line 230, in stale\n    self.stale_callback(self, val)\n  File \"C:\\Users\\jdmed\\AppData\\Local\\conda\\conda\\envs\\tf_gpu\\lib\\site-packages\\matplotlib\\artist.py\", line 51, in _stale_axes_callback\n    self.axes.stale = val\n  File \"C:\\Users\\jdmed\\AppData\\Local\\conda\\conda\\envs\\tf_gpu\\lib\\site-packages\\matplotlib\\artist.py\", line 230, in stale\n    self.stale_callback(self, val)\n  File \"C:\\Users\\jdmed\\AppData\\Local\\conda\\conda\\envs\\tf_gpu\\lib\\site-packages\\matplotlib\\figure.py\", line 51, in _stale_figure_callback\n    self.figure.stale = val\n  File \"C:\\Users\\jdmed\\AppData\\Local\\conda\\conda\\envs\\tf_gpu\\lib\\site-packages\\matplotlib\\artist.py\", line 230, in stale\n    self.stale_callback(self, val)\n  File \"C:\\Users\\jdmed\\AppData\\Local\\conda\\conda\\envs\\tf_gpu\\lib\\site-packages\\matplotlib\\pyplot.py\", line 583, in _auto_draw_if_interactive\n    fig.canvas.draw_idle()\n  File \"C:\\Users\\jdmed\\AppData\\Local\\conda\\conda\\envs\\tf_gpu\\lib\\site-packages\\matplotlib\\backend_bases.py\", line 1907, in draw_idle\n    self.draw(*args, **kwargs)\n  File \"C:\\Users\\jdmed\\AppData\\Local\\conda\\conda\\envs\\tf_gpu\\lib\\site-packages\\matplotlib\\backends\\backend_agg.py\", line 388, in draw\n    self.figure.draw(self.renderer)\n  File \"C:\\Users\\jdmed\\AppData\\Local\\conda\\conda\\envs\\tf_gpu\\lib\\site-packages\\matplotlib\\artist.py\", line 38, in draw_wrapper\n    return draw(artist, renderer, *args, **kwargs)\n  File \"C:\\Users\\jdmed\\AppData\\Local\\conda\\conda\\envs\\tf_gpu\\lib\\site-packages\\matplotlib\\figure.py\", line 1709, in draw\n    renderer, self, artists, self.suppressComposite)\n  File \"C:\\Users\\jdmed\\AppData\\Local\\conda\\conda\\envs\\tf_gpu\\lib\\site-packages\\matplotlib\\image.py\", line 135, in _draw_list_compositing_images\n    a.draw(renderer)\n  File \"C:\\Users\\jdmed\\AppData\\Local\\conda\\conda\\envs\\tf_gpu\\lib\\site-packages\\matplotlib\\artist.py\", line 38, in draw_wrapper\n    return draw(artist, renderer, *args, **kwargs)\n  File \"C:\\Users\\jdmed\\AppData\\Local\\conda\\conda\\envs\\tf_gpu\\lib\\site-packages\\matplotlib\\axes\\_base.py\", line 2645, in draw\n    mimage._draw_list_compositing_images(renderer, self, artists)\n  File \"C:\\Users\\jdmed\\AppData\\Local\\conda\\conda\\envs\\tf_gpu\\lib\\site-packages\\matplotlib\\image.py\", line 135, in _draw_list_compositing_images\n    a.draw(renderer)\n  File \"C:\\Users\\jdmed\\AppData\\Local\\conda\\conda\\envs\\tf_gpu\\lib\\site-packages\\matplotlib\\artist.py\", line 38, in draw_wrapper\n    return draw(artist, renderer, *args, **kwargs)\n  File \"C:\\Users\\jdmed\\AppData\\Local\\conda\\conda\\envs\\tf_gpu\\lib\\site-packages\\matplotlib\\axis.py\", line 1204, in draw\n    ticks_to_draw = self._update_ticks()\n  File \"C:\\Users\\jdmed\\AppData\\Local\\conda\\conda\\envs\\tf_gpu\\lib\\site-packages\\matplotlib\\axis.py\", line 1080, in _update_ticks\n    major_locs = self.get_majorticklocs()\n  File \"C:\\Users\\jdmed\\AppData\\Local\\conda\\conda\\envs\\tf_gpu\\lib\\site-packages\\matplotlib\\axis.py\", line 1325, in get_majorticklocs\n    return self.major.locator()\n  File \"C:\\Users\\jdmed\\AppData\\Local\\conda\\conda\\envs\\tf_gpu\\lib\\site-packages\\matplotlib\\dates.py\", line 1434, in __call__\n    self.refresh()\n  File \"C:\\Users\\jdmed\\AppData\\Local\\conda\\conda\\envs\\tf_gpu\\lib\\site-packages\\matplotlib\\dates.py\", line 1454, in refresh\n    dmin, dmax = self.viewlim_to_dt()\n  File \"C:\\Users\\jdmed\\AppData\\Local\\conda\\conda\\envs\\tf_gpu\\lib\\site-packages\\matplotlib\\dates.py\", line 1205, in viewlim_to_dt\n    .format(vmin))\nValueError: view limit minimum -0.10500000000000001 is less than 1 and is an invalid Matplotlib date value. This often happens if you pass a non-datetime value to an axis that has datetime units\n\"\"\"",
      "\nThe above exception was the direct cause of the following exception:\n",
      "\u001b[1;31mValueError\u001b[0m                                Traceback (most recent call last)",
      "\u001b[1;32m<ipython-input-2-17fe3ba5710a>\u001b[0m in \u001b[0;36m<module>\u001b[1;34m\u001b[0m\n\u001b[0;32m      1\u001b[0m \u001b[1;32mfrom\u001b[0m \u001b[0msimglucose\u001b[0m\u001b[1;33m.\u001b[0m\u001b[0msimulation\u001b[0m\u001b[1;33m.\u001b[0m\u001b[0muser_interface\u001b[0m \u001b[1;32mimport\u001b[0m \u001b[0msimulate\u001b[0m\u001b[1;33m\u001b[0m\u001b[1;33m\u001b[0m\u001b[0m\n\u001b[1;32m----> 2\u001b[1;33m \u001b[0msimulate\u001b[0m\u001b[1;33m(\u001b[0m\u001b[1;33m)\u001b[0m\u001b[1;33m\u001b[0m\u001b[1;33m\u001b[0m\u001b[0m\n\u001b[0m",
      "\u001b[1;32m~\\AppData\\Local\\conda\\conda\\envs\\tf_gpu\\lib\\site-packages\\simglucose-0.2.1-py3.7.egg\\simglucose\\simulation\\user_interface.py\u001b[0m in \u001b[0;36msimulate\u001b[1;34m(sim_time, scenario, controller, start_time, save_path, animate, parallel)\u001b[0m\n\u001b[0;32m    333\u001b[0m                                         \u001b[0msave_path\u001b[0m\u001b[1;33m=\u001b[0m\u001b[0msave_path\u001b[0m\u001b[1;33m,\u001b[0m\u001b[1;33m\u001b[0m\u001b[1;33m\u001b[0m\u001b[0m\n\u001b[0;32m    334\u001b[0m                                         animate=animate)\n\u001b[1;32m--> 335\u001b[1;33m     \u001b[0mresults\u001b[0m \u001b[1;33m=\u001b[0m \u001b[0mbatch_sim\u001b[0m\u001b[1;33m(\u001b[0m\u001b[0msim_instances\u001b[0m\u001b[1;33m,\u001b[0m \u001b[0mparallel\u001b[0m\u001b[1;33m=\u001b[0m\u001b[0mparallel\u001b[0m\u001b[1;33m)\u001b[0m\u001b[1;33m\u001b[0m\u001b[1;33m\u001b[0m\u001b[0m\n\u001b[0m\u001b[0;32m    336\u001b[0m \u001b[1;33m\u001b[0m\u001b[0m\n\u001b[0;32m    337\u001b[0m     \u001b[0mdf\u001b[0m \u001b[1;33m=\u001b[0m \u001b[0mpd\u001b[0m\u001b[1;33m.\u001b[0m\u001b[0mconcat\u001b[0m\u001b[1;33m(\u001b[0m\u001b[0mresults\u001b[0m\u001b[1;33m,\u001b[0m \u001b[0mkeys\u001b[0m\u001b[1;33m=\u001b[0m\u001b[1;33m[\u001b[0m\u001b[0ms\u001b[0m\u001b[1;33m.\u001b[0m\u001b[0menv\u001b[0m\u001b[1;33m.\u001b[0m\u001b[0mpatient\u001b[0m\u001b[1;33m.\u001b[0m\u001b[0mname\u001b[0m \u001b[1;32mfor\u001b[0m \u001b[0ms\u001b[0m \u001b[1;32min\u001b[0m \u001b[0msim_instances\u001b[0m\u001b[1;33m]\u001b[0m\u001b[1;33m)\u001b[0m\u001b[1;33m\u001b[0m\u001b[1;33m\u001b[0m\u001b[0m\n",
      "\u001b[1;32m~\\AppData\\Local\\conda\\conda\\envs\\tf_gpu\\lib\\site-packages\\simglucose-0.2.1-py3.7.egg\\simglucose\\simulation\\sim_engine.py\u001b[0m in \u001b[0;36mbatch_sim\u001b[1;34m(sim_instances, parallel)\u001b[0m\n\u001b[0;32m     66\u001b[0m     \u001b[1;32mif\u001b[0m \u001b[0mparallel\u001b[0m \u001b[1;32mand\u001b[0m \u001b[0mpathos\u001b[0m\u001b[1;33m:\u001b[0m\u001b[1;33m\u001b[0m\u001b[1;33m\u001b[0m\u001b[0m\n\u001b[0;32m     67\u001b[0m         \u001b[1;32mwith\u001b[0m \u001b[0mPool\u001b[0m\u001b[1;33m(\u001b[0m\u001b[1;33m)\u001b[0m \u001b[1;32mas\u001b[0m \u001b[0mp\u001b[0m\u001b[1;33m:\u001b[0m\u001b[1;33m\u001b[0m\u001b[1;33m\u001b[0m\u001b[0m\n\u001b[1;32m---> 68\u001b[1;33m             \u001b[0mresults\u001b[0m \u001b[1;33m=\u001b[0m \u001b[0mp\u001b[0m\u001b[1;33m.\u001b[0m\u001b[0mmap\u001b[0m\u001b[1;33m(\u001b[0m\u001b[0msim\u001b[0m\u001b[1;33m,\u001b[0m \u001b[0msim_instances\u001b[0m\u001b[1;33m)\u001b[0m\u001b[1;33m\u001b[0m\u001b[1;33m\u001b[0m\u001b[0m\n\u001b[0m\u001b[0;32m     69\u001b[0m     \u001b[1;32melse\u001b[0m\u001b[1;33m:\u001b[0m\u001b[1;33m\u001b[0m\u001b[1;33m\u001b[0m\u001b[0m\n\u001b[0;32m     70\u001b[0m         \u001b[1;32mif\u001b[0m \u001b[0mparallel\u001b[0m \u001b[1;32mand\u001b[0m \u001b[1;32mnot\u001b[0m \u001b[0mpathos\u001b[0m\u001b[1;33m:\u001b[0m\u001b[1;33m\u001b[0m\u001b[1;33m\u001b[0m\u001b[0m\n",
      "\u001b[1;32m~\\AppData\\Local\\conda\\conda\\envs\\tf_gpu\\lib\\site-packages\\pathos-0.2.5-py3.7.egg\\pathos\\multiprocessing.py\u001b[0m in \u001b[0;36mmap\u001b[1;34m(self, f, *args, **kwds)\u001b[0m\n\u001b[0;32m    135\u001b[0m         \u001b[0mAbstractWorkerPool\u001b[0m\u001b[1;33m.\u001b[0m\u001b[0m_AbstractWorkerPool__map\u001b[0m\u001b[1;33m(\u001b[0m\u001b[0mself\u001b[0m\u001b[1;33m,\u001b[0m \u001b[0mf\u001b[0m\u001b[1;33m,\u001b[0m \u001b[1;33m*\u001b[0m\u001b[0margs\u001b[0m\u001b[1;33m,\u001b[0m \u001b[1;33m**\u001b[0m\u001b[0mkwds\u001b[0m\u001b[1;33m)\u001b[0m\u001b[1;33m\u001b[0m\u001b[1;33m\u001b[0m\u001b[0m\n\u001b[0;32m    136\u001b[0m         \u001b[0m_pool\u001b[0m \u001b[1;33m=\u001b[0m \u001b[0mself\u001b[0m\u001b[1;33m.\u001b[0m\u001b[0m_serve\u001b[0m\u001b[1;33m(\u001b[0m\u001b[1;33m)\u001b[0m\u001b[1;33m\u001b[0m\u001b[1;33m\u001b[0m\u001b[0m\n\u001b[1;32m--> 137\u001b[1;33m         \u001b[1;32mreturn\u001b[0m \u001b[0m_pool\u001b[0m\u001b[1;33m.\u001b[0m\u001b[0mmap\u001b[0m\u001b[1;33m(\u001b[0m\u001b[0mstar\u001b[0m\u001b[1;33m(\u001b[0m\u001b[0mf\u001b[0m\u001b[1;33m)\u001b[0m\u001b[1;33m,\u001b[0m \u001b[0mzip\u001b[0m\u001b[1;33m(\u001b[0m\u001b[1;33m*\u001b[0m\u001b[0margs\u001b[0m\u001b[1;33m)\u001b[0m\u001b[1;33m)\u001b[0m \u001b[1;31m# chunksize\u001b[0m\u001b[1;33m\u001b[0m\u001b[1;33m\u001b[0m\u001b[0m\n\u001b[0m\u001b[0;32m    138\u001b[0m     \u001b[0mmap\u001b[0m\u001b[1;33m.\u001b[0m\u001b[0m__doc__\u001b[0m \u001b[1;33m=\u001b[0m \u001b[0mAbstractWorkerPool\u001b[0m\u001b[1;33m.\u001b[0m\u001b[0mmap\u001b[0m\u001b[1;33m.\u001b[0m\u001b[0m__doc__\u001b[0m\u001b[1;33m\u001b[0m\u001b[1;33m\u001b[0m\u001b[0m\n\u001b[0;32m    139\u001b[0m     \u001b[1;32mdef\u001b[0m \u001b[0mimap\u001b[0m\u001b[1;33m(\u001b[0m\u001b[0mself\u001b[0m\u001b[1;33m,\u001b[0m \u001b[0mf\u001b[0m\u001b[1;33m,\u001b[0m \u001b[1;33m*\u001b[0m\u001b[0margs\u001b[0m\u001b[1;33m,\u001b[0m \u001b[1;33m**\u001b[0m\u001b[0mkwds\u001b[0m\u001b[1;33m)\u001b[0m\u001b[1;33m:\u001b[0m\u001b[1;33m\u001b[0m\u001b[1;33m\u001b[0m\u001b[0m\n",
      "\u001b[1;32m~\\AppData\\Local\\conda\\conda\\envs\\tf_gpu\\lib\\site-packages\\multiprocess-0.70.9-py3.7.egg\\multiprocess\\pool.py\u001b[0m in \u001b[0;36mmap\u001b[1;34m(self, func, iterable, chunksize)\u001b[0m\n\u001b[0;32m    266\u001b[0m         \u001b[1;32min\u001b[0m \u001b[0ma\u001b[0m \u001b[0mlist\u001b[0m \u001b[0mthat\u001b[0m \u001b[1;32mis\u001b[0m \u001b[0mreturned\u001b[0m\u001b[1;33m.\u001b[0m\u001b[1;33m\u001b[0m\u001b[1;33m\u001b[0m\u001b[0m\n\u001b[0;32m    267\u001b[0m         '''\n\u001b[1;32m--> 268\u001b[1;33m         \u001b[1;32mreturn\u001b[0m \u001b[0mself\u001b[0m\u001b[1;33m.\u001b[0m\u001b[0m_map_async\u001b[0m\u001b[1;33m(\u001b[0m\u001b[0mfunc\u001b[0m\u001b[1;33m,\u001b[0m \u001b[0miterable\u001b[0m\u001b[1;33m,\u001b[0m \u001b[0mmapstar\u001b[0m\u001b[1;33m,\u001b[0m \u001b[0mchunksize\u001b[0m\u001b[1;33m)\u001b[0m\u001b[1;33m.\u001b[0m\u001b[0mget\u001b[0m\u001b[1;33m(\u001b[0m\u001b[1;33m)\u001b[0m\u001b[1;33m\u001b[0m\u001b[1;33m\u001b[0m\u001b[0m\n\u001b[0m\u001b[0;32m    269\u001b[0m \u001b[1;33m\u001b[0m\u001b[0m\n\u001b[0;32m    270\u001b[0m     \u001b[1;32mdef\u001b[0m \u001b[0mstarmap\u001b[0m\u001b[1;33m(\u001b[0m\u001b[0mself\u001b[0m\u001b[1;33m,\u001b[0m \u001b[0mfunc\u001b[0m\u001b[1;33m,\u001b[0m \u001b[0miterable\u001b[0m\u001b[1;33m,\u001b[0m \u001b[0mchunksize\u001b[0m\u001b[1;33m=\u001b[0m\u001b[1;32mNone\u001b[0m\u001b[1;33m)\u001b[0m\u001b[1;33m:\u001b[0m\u001b[1;33m\u001b[0m\u001b[1;33m\u001b[0m\u001b[0m\n",
      "\u001b[1;32m~\\AppData\\Local\\conda\\conda\\envs\\tf_gpu\\lib\\site-packages\\multiprocess-0.70.9-py3.7.egg\\multiprocess\\pool.py\u001b[0m in \u001b[0;36mget\u001b[1;34m(self, timeout)\u001b[0m\n\u001b[0;32m    655\u001b[0m             \u001b[1;32mreturn\u001b[0m \u001b[0mself\u001b[0m\u001b[1;33m.\u001b[0m\u001b[0m_value\u001b[0m\u001b[1;33m\u001b[0m\u001b[1;33m\u001b[0m\u001b[0m\n\u001b[0;32m    656\u001b[0m         \u001b[1;32melse\u001b[0m\u001b[1;33m:\u001b[0m\u001b[1;33m\u001b[0m\u001b[1;33m\u001b[0m\u001b[0m\n\u001b[1;32m--> 657\u001b[1;33m             \u001b[1;32mraise\u001b[0m \u001b[0mself\u001b[0m\u001b[1;33m.\u001b[0m\u001b[0m_value\u001b[0m\u001b[1;33m\u001b[0m\u001b[1;33m\u001b[0m\u001b[0m\n\u001b[0m\u001b[0;32m    658\u001b[0m \u001b[1;33m\u001b[0m\u001b[0m\n\u001b[0;32m    659\u001b[0m     \u001b[1;32mdef\u001b[0m \u001b[0m_set\u001b[0m\u001b[1;33m(\u001b[0m\u001b[0mself\u001b[0m\u001b[1;33m,\u001b[0m \u001b[0mi\u001b[0m\u001b[1;33m,\u001b[0m \u001b[0mobj\u001b[0m\u001b[1;33m)\u001b[0m\u001b[1;33m:\u001b[0m\u001b[1;33m\u001b[0m\u001b[1;33m\u001b[0m\u001b[0m\n",
      "\u001b[1;31mValueError\u001b[0m: view limit minimum -0.10500000000000001 is less than 1 and is an invalid Matplotlib date value. This often happens if you pass a non-datetime value to an axis that has datetime units"
     ]
    }
   ],
   "source": [
    "from simglucose.simulation.user_interface import simulate\n",
    "simulate()"
   ]
  },
  {
   "cell_type": "code",
   "execution_count": 1,
   "metadata": {},
   "outputs": [
    {
     "name": "stdout",
     "output_type": "stream",
     "text": [
      "matplotlib: 3.1.0\n"
     ]
    }
   ],
   "source": [
    "import matplotlib\n",
    "print('matplotlib: {}'.format(matplotlib.__version__))"
   ]
  },
  {
   "cell_type": "code",
   "execution_count": null,
   "metadata": {},
   "outputs": [],
   "source": []
  }
 ],
 "metadata": {
  "kernelspec": {
   "display_name": "Python 3",
   "language": "python",
   "name": "python3"
  },
  "language_info": {
   "codemirror_mode": {
    "name": "ipython",
    "version": 3
   },
   "file_extension": ".py",
   "mimetype": "text/x-python",
   "name": "python",
   "nbconvert_exporter": "python",
   "pygments_lexer": "ipython3",
   "version": "3.7.6"
  }
 },
 "nbformat": 4,
 "nbformat_minor": 2
}
