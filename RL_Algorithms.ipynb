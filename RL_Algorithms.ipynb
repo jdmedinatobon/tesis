{
 "cells": [
  {
   "cell_type": "markdown",
   "metadata": {},
   "source": [
    "Este archivo es para implementar algunos algoritmos de aprendizaje por refuerzo y aplicarlos utilizando Open AI gym.\n",
    "\n",
    "Se van a probar los siguientes 2 entornos (environments), de acuerdo con los resultados presentados en el articulo de Diego:\n",
    "\n",
    "Pendulum-v0 y Hopper-v2"
   ]
  },
  {
   "cell_type": "markdown",
   "metadata": {},
   "source": [
    "Tareas (Puede cambiar):\n",
    "1. Terminar el curso de David Silver. (Completo: 100%)\n",
    "2. Implementar con table lookup. (En progreso: Ya medio funciona (por ahi un 80%))\n",
    "3. Implementar con DQN. (Sin comenzar)\n",
    "4. Implementar con Simglucose (Sin comenzar)\n",
    "5. Implementar con el trabajo de Diego."
   ]
  },
  {
   "cell_type": "markdown",
   "metadata": {},
   "source": [
    "# Librerías"
   ]
  },
  {
   "cell_type": "code",
   "execution_count": 2,
   "metadata": {},
   "outputs": [
    {
     "name": "stderr",
     "output_type": "stream",
     "text": [
      "Using TensorFlow backend.\n"
     ]
    }
   ],
   "source": [
    "import gym\n",
    "import time\n",
    "import numpy as np\n",
    "import progressbar\n",
    "\n",
    "import tensorflow as tf\n",
    "import keras\n",
    "from keras.models import Sequential\n",
    "from keras.layers import Dense\n",
    "\n",
    "%matplotlib inline\n",
    "import matplotlib.pyplot as plt"
   ]
  },
  {
   "cell_type": "markdown",
   "metadata": {},
   "source": [
    "# Table Lookup"
   ]
  },
  {
   "cell_type": "markdown",
   "metadata": {},
   "source": [
    "Pendulum-v0<br /> \n",
    "Utilizando el algoritmo de Sarsa.<br />\n",
    "Está como chambón pero funciona."
   ]
  },
  {
   "cell_type": "code",
   "execution_count": 112,
   "metadata": {},
   "outputs": [],
   "source": [
    "def darIndice(pS):\n",
    "    return int(round(pS, 1)*10+10)\n",
    "\n",
    "def escogerAccion(pS1, pS2, pS3):\n",
    "    num = np.random.random()\n",
    "    \n",
    "    if(num <= epsilon):\n",
    "        ind = np.random.randint(0,41)\n",
    "        return ind\n",
    "    else:\n",
    "        ind = np.where(tablaQ[pS1, pS2, pS3, :] == np.amax(tablaQ[pS1, pS2, pS3, :]))\n",
    "        ind = ind[0]\n",
    "        \n",
    "        if(len(ind) > 1):\n",
    "            return np.random.choice(ind)\n",
    "        else:\n",
    "            return ind\n",
    "    \n",
    "    return accion"
   ]
  },
  {
   "cell_type": "code",
   "execution_count": 153,
   "metadata": {
    "scrolled": true
   },
   "outputs": [
    {
     "name": "stderr",
     "output_type": "stream",
     "text": [
      "100% (1500000 of 1500000) |##############| Elapsed Time: 0:04:49 Time:  0:04:49\n"
     ]
    }
   ],
   "source": [
    "envName = 'Pendulum-v0'\n",
    "\n",
    "g = 0.9\n",
    "alpha = 0.5\n",
    "epsilon = 0.1 #Entre 0 y 1\n",
    "maxIter = 1500000\n",
    "ventana = 100\n",
    "epsilonIterLimit = maxIter*0.9\n",
    "\n",
    "tablaQ = np.ones((21,21,17,41))*-16\n",
    "rewards = np.zeros(int(maxIter/10))\n",
    "\n",
    "env = gym.make(envName)\n",
    "observation = env.reset()\n",
    "\n",
    "s1 = darIndice(observation[0])\n",
    "s2 = darIndice(observation[1])\n",
    "s3 = int(round(observation[2], 0) + 8)\n",
    "a = escogerAccion(s1, s2, s3)\n",
    "\n",
    "suma = 0\n",
    "\n",
    "for i in progressbar.progressbar(range(maxIter)):\n",
    "    \n",
    "    if(i > maxIter-2000):\n",
    "        env.render()\n",
    "    \n",
    "    observation, reward, done, info = env.step([(a-20)/10.0])\n",
    "    observation = np.reshape(observation, (3,))\n",
    "    \n",
    "    s1p = darIndice(observation[0])\n",
    "    s2p = darIndice(observation[1])\n",
    "    s3p = int(round(observation[2], 0) + 8)\n",
    "    \n",
    "    ap = escogerAccion(s1p, s2p, s3p)\n",
    "    \n",
    "    r = reward #Por ahora\n",
    "    suma+=r\n",
    "    \n",
    "    if(i % ventana == 0):\n",
    "        rewards[int(i/ventana)] = suma/ventana\n",
    "        suma = 0\n",
    "    \n",
    "    tablaQ[s1, s2, s3, a] = tablaQ[s1, s2, s3, a] + alpha*(r + g*tablaQ[s1p, s2p, s3p, ap] - tablaQ[s1,s2,s3,a])\n",
    "    \n",
    "    s1 = s1p\n",
    "    s2 = s2p\n",
    "    s3 = s3p\n",
    "    a = ap\n",
    "    \n",
    "    if(i > epsilonIterLimit):\n",
    "        epsilon = 0\n",
    "    \n",
    "env.close()"
   ]
  },
  {
   "cell_type": "code",
   "execution_count": 160,
   "metadata": {},
   "outputs": [
    {
     "name": "stderr",
     "output_type": "stream",
     "text": [
      "100% (2000 of 2000) |####################| Elapsed Time: 0:00:33 Time:  0:00:33\n"
     ]
    }
   ],
   "source": [
    "for i in progressbar.progressbar(range(2000)):\n",
    "    env.render()\n",
    "    \n",
    "    observation, reward, done, info = env.step([(a-20)/10.0])\n",
    "    observation = np.reshape(observation, (3,))\n",
    "    \n",
    "    s1p = darIndice(observation[0])\n",
    "    s2p = darIndice(observation[1])\n",
    "    s3p = int(round(observation[2], 0) + 8)\n",
    "    \n",
    "    ap = escogerAccion(s1p, s2p, s3p)\n",
    "    \n",
    "    r = reward #Por ahora\n",
    "    suma+=r\n",
    "    \n",
    "    if(i % ventana == 0):\n",
    "        rewards[int(i/ventana)] = suma/ventana\n",
    "        suma = 0\n",
    "    \n",
    "    tablaQ[s1, s2, s3, a] = tablaQ[s1, s2, s3, a] + alpha*(r + g*tablaQ[s1p, s2p, s3p, ap] - tablaQ[s1,s2,s3,a])\n",
    "    \n",
    "    s1 = s1p\n",
    "    s2 = s2p\n",
    "    s3 = s3p\n",
    "    a = ap\n",
    "    \n",
    "env.close()"
   ]
  },
  {
   "cell_type": "markdown",
   "metadata": {},
   "source": [
    "# DQN"
   ]
  },
  {
   "cell_type": "code",
   "execution_count": null,
   "metadata": {},
   "outputs": [],
   "source": [
    "#Creando red neuronal\n",
    "def crearModelo(n1 = 10, n2 = 4):\n",
    "    modelo = Sequential()\n",
    "    \n",
    "    modelo.add(Dense(n1, activation = 'relu', input_dim = 3))\n",
    "    modelo.add(Dense(n2, activation = 'linear'))\n",
    "    \n",
    "    modelo.compile(loss = 'mean_squared_error', optimizer = 'sgd', metrics = 'acc')\n",
    "    "
   ]
  },
  {
   "cell_type": "code",
   "execution_count": 159,
   "metadata": {},
   "outputs": [
    {
     "data": {
      "image/png": "[encoded data removed]",
      "text/plain": [
       "<Figure size 432x288 with 1 Axes>"
      ]
     },
     "metadata": {
      "needs_background": "light"
     },
     "output_type": "display_data"
    }
   ],
   "source": [
    "envName = 'Pendulum-v0'\n",
    "\n",
    "gamma = 0.9\n",
    "alpha = 0.5\n",
    "epsilon = 0.1 #Entre 0 y 1\n",
    "episodes = 1500\n",
    "ventana = 100\n",
    "epsilonIterLimit = episodes*0.9\n",
    "\n",
    "rewards = np.zeros(int(episodes/10))\n",
    "\n",
    "env = gym.make(envName)\n",
    "observation = env.reset()\n",
    "\n",
    "s1 = darIndice(observation[0])\n",
    "s2 = darIndice(observation[1])\n",
    "s3 = int(round(observation[2], 0) + 8)\n",
    "a = escogerAccion(s1, s2, s3)\n",
    "\n",
    "suma = 0\n",
    "\n",
    "for i in progressbar.progressbar(range(episodes)):\n",
    "    \n",
    "    if(i > maxIter-2000):\n",
    "        env.render()\n",
    "    \n",
    "    observation, reward, done, info = env.step([(a-20)/10.0])\n",
    "    observation = np.reshape(observation, (3,))\n",
    "    \n",
    "    s1p = darIndice(observation[0])\n",
    "    s2p = darIndice(observation[1])\n",
    "    s3p = int(round(observation[2], 0) + 8)\n",
    "    \n",
    "    ap = escogerAccion(s1p, s2p, s3p)\n",
    "    \n",
    "    r = reward #Por ahora\n",
    "    suma+=r\n",
    "    \n",
    "    if(i % ventana == 0):\n",
    "        rewards[int(i/ventana)] = suma/ventana\n",
    "        suma = 0\n",
    "    \n",
    "    target = r + gamma*tablaQ[s1p, s2p, s3p, ap]\n",
    "    tablaQ[s1, s2, s3, a] = tablaQ[s1, s2, s3, a] + alpha*(target - tablaQ[s1,s2,s3,a])\n",
    "    \n",
    "    s1 = s1p\n",
    "    s2 = s2p\n",
    "    s3 = s3p\n",
    "    a = ap\n",
    "    \n",
    "    if(i > epsilonIterLimit):\n",
    "        epsilon = 0\n",
    "    \n",
    "env.close()"
   ]
  },
  {
   "cell_type": "code",
   "execution_count": 6,
   "metadata": {
    "scrolled": true
   },
   "outputs": [
    {
     "name": "stdout",
     "output_type": "stream",
     "text": [
      "[-0.35483207  0.93493005 -0.92173004]\n",
      "[-0.34984433  0.93680785 -0.10659038]\n",
      "[-0.36694778  0.93024154  0.36641711]\n",
      "[-0.40403398  0.91474398  0.80393496]\n",
      "[-0.46195516  0.88690328  1.28551763]\n",
      "[-0.55099042  0.83451157  2.06704374]\n",
      "[-0.6599625   0.75129854  2.74436492]\n",
      "[-0.77344545  0.63386287  3.26980124]\n",
      "[-0.87460842  0.48482998  3.60737306]\n",
      "[-0.9538742   0.30020663  4.02519005]\n",
      "[0.9990358  0.043903   0.37534164]\n",
      "[0.99732398 0.07310874 0.58513808]\n",
      "[0.99542222 0.09557517 0.45094514]\n",
      "[0.99209136 0.12551783 0.60256984]\n",
      "[0.9860903  0.16621046 0.82271283]\n",
      "[0.97665948 0.21479351 0.98989981]\n",
      "[0.96219796 0.27235103 1.18710364]\n",
      "[0.93752037 0.3479304  1.59054173]\n",
      "[0.9036082  0.42835992 1.7462857 ]\n",
      "[0.85761939 0.51428493 1.94993394]\n",
      "[-0.82841116  0.56012048 -0.95977252]\n",
      "[-0.80765589  0.58965411 -0.72198556]\n",
      "[-0.80620443  0.59163706 -0.04914811]\n",
      "[-0.82611872  0.5634961   0.68952453]\n",
      "[-0.85472284  0.51908465  1.05664026]\n",
      "[-0.88873854  0.45841445  1.39138678]\n",
      "[-0.92369113  0.38313795  1.66038466]\n",
      "[-0.96072135  0.27751484  2.23969441]\n",
      "[-0.98517398  0.17155824  2.17590467]\n",
      "[-0.99744714  0.07140875  2.01883144]\n",
      "[-0.28199088  0.95941708  0.9478112 ]\n",
      "[-0.35621469  0.93440414  1.56690253]\n",
      "[-0.45795708  0.8889743   2.22964137]\n",
      "[-0.57554087  0.81777302  2.75139229]\n",
      "[-0.70259041  0.71159449  3.3153177 ]\n",
      "[-0.8302008   0.55746447  4.00873026]\n",
      "[-0.93602337  0.35193785  4.63375888]\n",
      "[-0.99226733  0.12411908  4.704012  ]\n",
      "[-0.99492419 -0.10062735  4.50475895]\n",
      "[-0.95158107 -0.30739788  4.23318702]\n",
      "[ 0.80452719  0.59391582 -0.89868763]\n",
      "[ 0.82014784  0.57215166 -0.5358084 ]\n",
      "[ 0.82956481  0.55841045 -0.33317045]\n",
      "[0.82837761 0.56017009 0.04245349]\n",
      "[0.80996602 0.58647681 0.64222092]\n",
      "[0.78596059 0.6182766  0.7969184 ]\n",
      "[0.75363031 0.65729852 1.01360869]\n",
      "[0.70368197 0.71051509 1.46002832]\n",
      "[0.61848221 0.7857988  2.27513373]\n",
      "[0.49444248 0.86921035 2.99232813]\n",
      "[-0.27471563 -0.96152552  0.57896458]\n",
      "[-0.27389543 -0.96175948  0.01705838]\n",
      "[-0.29541583 -0.95536877 -0.44899445]\n",
      "[-0.34943421 -0.9369609  -1.14152865]\n",
      "[-0.42756345 -0.90398534 -1.69657062]\n",
      "[-0.52703866 -0.84984131 -2.26632982]\n",
      "[-0.64502294 -0.76416321 -2.91882195]\n",
      "[-0.75974143 -0.65022531 -3.2372414 ]\n",
      "[-0.86042552 -0.50957622 -3.46377525]\n",
      "[-0.9435319  -0.33128168 -3.94061127]\n",
      "[ 0.44307716 -0.89648348  0.38560522]\n",
      "[ 0.43801953 -0.89896546 -0.11267637]\n",
      "[ 0.41166197 -0.91133661 -0.58234919]\n",
      "[ 0.36411172 -0.93135528 -1.03196188]\n",
      "[ 0.28361188 -0.95893915 -1.70240639]\n",
      "[ 0.16566254 -0.9861825  -2.42257528]\n",
      "[-0.00651096 -0.9999788  -3.45881611]\n",
      "[-0.206245   -0.97850038 -4.02449755]\n",
      "[-0.43160242 -0.90206394 -4.77065049]\n",
      "[-0.65895763 -0.75218006 -5.46327416]\n",
      "[ 0.3865893  -0.92225198 -0.27044032]\n",
      "[ 0.33465619 -0.9423403  -1.11380252]\n",
      "[ 0.2394494  -0.97090885 -1.98883294]\n",
      "[ 0.10683895 -0.99427634 -2.69510918]\n",
      "[-0.06093168 -0.99814194 -3.36025406]\n",
      "[-0.2634487  -0.96467341 -4.11252012]\n",
      "[-0.49208951 -0.87054461 -4.95785808]\n",
      "[-0.71880242 -0.69521441 -5.75179639]\n",
      "[-0.90276992 -0.43012378 -6.48176517]\n",
      "[-0.99373087 -0.11179876 -6.6519383 ]\n",
      "[-0.98912676 -0.14706548  0.53271712]\n",
      "[-0.98694975 -0.16102852  0.28263693]\n",
      "[-0.98470555 -0.17422681  0.26775665]\n",
      "[-0.98127897 -0.19259176  0.3736432 ]\n",
      "[-0.97908961 -0.20342943  0.22113301]\n",
      "[-0.9807218  -0.19540919 -0.16369306]\n",
      "[-0.98165025 -0.1906903  -0.09618736]\n",
      "[-0.98353074 -0.18074094 -0.20251108]\n",
      "[-0.98546625 -0.16987133 -0.22081287]\n",
      "[-0.9897155  -0.14304976 -0.54313836]\n",
      "[ 0.59862915 -0.8010263  -0.3233661 ]\n",
      "[ 0.56345778 -0.82614486 -0.86446713]\n",
      "[ 0.51009802 -0.86011628 -1.26533098]\n",
      "[ 0.4124559  -0.91097757 -2.20300855]\n",
      "[ 0.27514329 -0.96140323 -2.92819153]\n",
      "[ 0.09334588 -0.99563374 -3.70513538]\n",
      "[-0.13295273 -0.99112238 -4.53659068]\n",
      "[-0.37472042 -0.92713786 -5.01495292]\n",
      "[-0.60992424 -0.79245973 -5.43739561]\n",
      "[-0.8259305  -0.56377194 -6.31771434]\n",
      "[-0.89250592  0.45103568 -0.59286549]\n",
      "[-0.88620632  0.46329078 -0.27559056]\n",
      "[-0.89062384  0.45474078  0.19247628]\n",
      "[-0.89606197  0.44392899  0.24204932]\n",
      "[-0.90799558  0.41897974  0.55314552]\n",
      "[-0.92500432  0.37995658  0.85144072]\n",
      "[-0.94350366  0.33136211  1.04004949]\n",
      "[-0.96185158  0.27357183  1.2128462 ]\n",
      "[-0.97569471  0.21913429  1.12354926]\n",
      "[-0.98893784  0.14833057  1.44094313]\n",
      "[ 0.96948849  0.24513683 -0.74013636]\n",
      "[ 0.9784499   0.20648435 -0.79360645]\n",
      "[ 0.9840743   0.17775764 -0.58546361]\n",
      "[ 0.98732021  0.15874133 -0.38583284]\n",
      "[ 0.98948473  0.14463735 -0.28538463]\n",
      "[ 0.99163439  0.12907839 -0.31413829]\n",
      "[ 0.99341218  0.11459597 -0.29182518]\n",
      "[0.99297439 0.11832947 0.07518176]\n",
      "[ 0.9932271   0.11618916 -0.04310366]\n",
      "[0.99108379 0.13324007 0.34370597]\n",
      "[0.75083284 0.66049228 0.28144892]\n",
      "[0.72996823 0.68348108 0.62093292]\n",
      "[0.69605829 0.71798528 0.967653  ]\n",
      "[0.64578097 0.76352272 1.35694256]\n",
      "[0.56143224 0.82752271 2.11860291]\n",
      "[0.43365538 0.90107881 2.95140076]\n",
      "[0.26310605 0.96476692 3.64610446]\n",
      "[0.04214781 0.99911139 4.48159963]\n",
      "[-0.21965334  0.97557799  5.27238832]\n",
      "[-0.48927615  0.87212892  5.79600917]\n",
      "[-0.5009382  -0.86548306 -0.48131282]\n",
      "[-0.54911594 -0.83574618 -1.13247209]\n",
      "[-0.61764199 -0.78645939 -1.68869677]\n",
      "[-0.70153368 -0.7126363  -2.236129  ]\n",
      "[-0.79549489 -0.6059603  -2.84552988]\n",
      "[-0.88172009 -0.47177291 -3.19344091]\n",
      "[-0.95368013 -0.30082255 -3.71490805]\n",
      "[-0.99511872 -0.09868502 -4.1341827 ]\n",
      "[-0.99239505  0.12309375 -4.44505287]\n",
      "[-0.94522197  0.32642829 -4.18231319]\n",
      "[ 0.49765226  0.86737663 -0.63090123]\n",
      "[ 0.50609143  0.86247984 -0.19513985]\n",
      "[0.49178225 0.87071822 0.33022998]\n",
      "[0.45059595 0.892728   0.93405323]\n",
      "[0.37738573 0.92605616 1.60922276]\n",
      "[0.28008667 0.95997472 2.06174518]\n",
      "[0.13612096 0.99069222 2.94679047]\n",
      "[-0.05354522  0.99856543  3.80231425]\n",
      "[-0.26856132  0.96326259  4.36656658]\n",
      "[-0.5080331   0.86133754  5.22001076]\n",
      "[-0.43105688 -0.90232475 -0.72506979]\n",
      "[-0.50395231 -0.86373148 -1.65009617]\n",
      "[-0.6095212  -0.79276977 -2.54575897]\n",
      "[-0.71942145 -0.69457381 -2.95025019]\n",
      "[-0.82025733 -0.57199468 -3.17783484]\n",
      "[-0.90515875 -0.42507369 -3.39784564]\n",
      "[-0.96911356 -0.24661488 -3.79715216]\n",
      "[-0.99897551 -0.0452541  -4.07832262]\n",
      "[-0.98812396  0.15365885 -3.99079188]\n",
      "[-0.93823467  0.34599959 -3.98067856]\n",
      "[-0.20871419  0.97797668 -0.63892947]\n",
      "[-0.2199389   0.97551365  0.22983635]\n",
      "[-0.27052688  0.96271242  1.0437689 ]\n",
      "[-0.36138559  0.93241646  1.91626418]\n",
      "[-0.46767789  0.88389897  2.33816681]\n",
      "[-0.58295294  0.81250592  2.71393009]\n",
      "[-0.70664642  0.70756684  3.24777999]\n",
      "[-0.83259275  0.55388565  3.98050065]\n",
      "[-0.92967628  0.36837754  4.19521479]\n",
      "[-0.98817611  0.15332312  4.46665889]\n",
      "[ 0.99952547 -0.03080315  0.06787408]\n",
      "[ 0.99965212 -0.02637511  0.08859713]\n",
      "[ 0.99944614 -0.03327783 -0.13811612]\n",
      "[ 0.99890354 -0.04681571 -0.27097698]\n",
      "[ 0.99736347 -0.07256795 -0.51597947]\n",
      "[ 0.99422377 -0.10732705 -0.69804761]\n",
      "[ 0.99129935 -0.13162671 -0.48951231]\n",
      "[ 0.98741387 -0.15815766 -0.53629513]\n",
      "[ 0.98247995 -0.18636833 -0.57279727]\n",
      "[ 0.97219484 -0.23417341 -0.97807677]\n",
      "[-0.99973794 -0.02289196 -0.66782404]\n",
      "[-0.99999592 -0.00285593 -0.40076049]\n",
      "[-0.99999574  0.00291743 -0.1154674 ]\n",
      "[-0.99973157  0.02316875 -0.40506778]\n",
      "[-0.99842976  0.05601795 -0.65752937]\n",
      "[-0.99710046  0.07609642 -0.40245524]\n",
      "[-0.99632892  0.08560768 -0.19085081]\n",
      "[-0.99529883  0.09685168 -0.22582293]\n",
      "[-0.99367329  0.11230936 -0.31086133]\n",
      "[-0.99294968  0.11853662 -0.12538344]\n",
      "[-0.69297201 -0.72096449  0.15093855]\n",
      "[-0.71635982 -0.69773104 -0.65935782]\n",
      "[-0.7603169  -0.64955231 -1.30459547]\n",
      "[-0.82008648 -0.5722396  -1.95522551]\n",
      "[-0.87823196 -0.47823491 -2.21180807]\n",
      "[-0.93745182 -0.34811506 -2.86168294]\n",
      "[-0.9772262  -0.21220029 -2.83467327]\n",
      "[-0.99873145 -0.05035366 -3.26902028]\n",
      "[-0.99313718  0.11695532 -3.35197136]\n",
      "[-0.96139737  0.27516376 -3.23072867]\n"
     ]
    }
   ],
   "source": [
    "import gym\n",
    "env = gym.make('Pendulum-v0')\n",
    "for i_episode in range(20):\n",
    "    observation = env.reset()\n",
    "    for t in range(10):\n",
    "        env.render()\n",
    "        print(observation)\n",
    "        action = env.action_space.sample()\n",
    "        observation, reward, done, info = env.step(action)\n",
    "        if done:\n",
    "            print(\"Episode finished after {} timesteps\".format(t+1))\n",
    "            break\n",
    "env.close()"
   ]
  },
  {
   "cell_type": "code",
   "execution_count": 5,
   "metadata": {},
   "outputs": [
    {
     "name": "stdout",
     "output_type": "stream",
     "text": [
      "Box(3,)\n",
      "Box(1,)\n"
     ]
    }
   ],
   "source": [
    "print(env.observation_space)\n",
    "print(env.action_space)"
   ]
  },
  {
   "cell_type": "code",
   "execution_count": 4,
   "metadata": {},
   "outputs": [
    {
     "name": "stdout",
     "output_type": "stream",
     "text": [
      "[1. 1. 8.]\n",
      "[-1. -1. -8.]\n"
     ]
    }
   ],
   "source": [
    "print(env.observation_space.high)\n",
    "print(env.observation_space.low)"
   ]
  },
  {
   "cell_type": "code",
   "execution_count": 43,
   "metadata": {},
   "outputs": [
    {
     "data": {
      "text/plain": [
       "0.3578890399283928"
      ]
     },
     "execution_count": 43,
     "metadata": {},
     "output_type": "execute_result"
    }
   ],
   "source": [
    "np.random.random()"
   ]
  },
  {
   "cell_type": "code",
   "execution_count": 50,
   "metadata": {},
   "outputs": [
    {
     "data": {
      "text/plain": [
       "0"
      ]
     },
     "execution_count": 50,
     "metadata": {},
     "output_type": "execute_result"
    }
   ],
   "source": [
    "np.random.randint(0,6)"
   ]
  },
  {
   "cell_type": "code",
   "execution_count": 59,
   "metadata": {},
   "outputs": [],
   "source": [
    "test = np.array([10,22,50,-1,50])"
   ]
  },
  {
   "cell_type": "code",
   "execution_count": 67,
   "metadata": {},
   "outputs": [],
   "source": [
    "test3 = np.where(test == np.amax(test))"
   ]
  },
  {
   "cell_type": "code",
   "execution_count": 69,
   "metadata": {},
   "outputs": [
    {
     "data": {
      "text/plain": [
       "2"
      ]
     },
     "execution_count": 69,
     "metadata": {},
     "output_type": "execute_result"
    }
   ],
   "source": [
    "len(test3[0])"
   ]
  },
  {
   "cell_type": "code",
   "execution_count": 140,
   "metadata": {},
   "outputs": [
    {
     "ename": "IndexError",
     "evalue": "only integers, slices (`:`), ellipsis (`...`), numpy.newaxis (`None`) and integer or boolean arrays are valid indices",
     "output_type": "error",
     "traceback": [
      "\u001b[0;31m---------------------------------------------------------------------------\u001b[0m",
      "\u001b[0;31mIndexError\u001b[0m                                Traceback (most recent call last)",
      "\u001b[0;32m<ipython-input-140-37765001e181>\u001b[0m in \u001b[0;36m<module>\u001b[0;34m\u001b[0m\n\u001b[0;32m----> 1\u001b[0;31m \u001b[0mrewards\u001b[0m\u001b[0;34m[\u001b[0m\u001b[0;36m10\u001b[0m\u001b[0;34m/\u001b[0m\u001b[0;36m10\u001b[0m\u001b[0;34m]\u001b[0m\u001b[0;34m\u001b[0m\u001b[0;34m\u001b[0m\u001b[0m\n\u001b[0m",
      "\u001b[0;31mIndexError\u001b[0m: only integers, slices (`:`), ellipsis (`...`), numpy.newaxis (`None`) and integer or boolean arrays are valid indices"
     ]
    }
   ],
   "source": [
    "rewards[10/10]"
   ]
  },
  {
   "cell_type": "code",
   "execution_count": null,
   "metadata": {},
   "outputs": [],
   "source": []
  }
 ],
 "metadata": {
  "kernelspec": {
   "display_name": "Python 3",
   "language": "python",
   "name": "python3"
  },
  "language_info": {
   "codemirror_mode": {
    "name": "ipython",
    "version": 3
   },
   "file_extension": ".py",
   "mimetype": "text/x-python",
   "name": "python",
   "nbconvert_exporter": "python",
   "pygments_lexer": "ipython3",
   "version": "3.6.9"
  }
 },
 "nbformat": 4,
 "nbformat_minor": 2
}
