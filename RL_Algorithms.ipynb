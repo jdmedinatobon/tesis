{
 "cells": [
  {
   "cell_type": "markdown",
   "metadata": {},
   "source": [
    "Este archivo es para implementar algunos algoritmos de aprendizaje por refuerzo y aplicarlos utilizando Open AI gym.\n",
    "\n",
    "Se van a probar los siguientes 2 entornos (environments), de acuerdo con los resultados presentados en el articulo de Diego:\n",
    "\n",
    "Pendulum-v0 y Hopper-v2"
   ]
  },
  {
   "cell_type": "markdown",
   "metadata": {},
   "source": [
    "Tareas (Puede cambiar):\n",
    "1. Terminar el curso de David Silver. (Completo: 100%)\n",
    "2. Implementar con table lookup. (Completo: 100%)\n",
    "3. Implementar con DQN. (Completo: 100%)\n",
    "4. Implementar con Simglucose (Sin comenzar)\n",
    "5. Implementar con el trabajo de Diego. (Sin comenzar)\n",
    "\n",
    "6. Adicional: Optimizar el codigo. "
   ]
  },
  {
   "cell_type": "markdown",
   "metadata": {},
   "source": [
    "# Instalación"
   ]
  },
  {
   "cell_type": "code",
   "execution_count": 1,
   "metadata": {},
   "outputs": [
    {
     "name": "stdout",
     "output_type": "stream",
     "text": [
      "Requirement already satisfied: progressbar2 in /home/hero/tf/lib/python3.6/site-packages (3.47.0)\n",
      "Requirement already satisfied: six in /home/hero/tf/lib/python3.6/site-packages (from progressbar2) (1.14.0)\n",
      "Requirement already satisfied: python-utils>=2.3.0 in /home/hero/tf/lib/python3.6/site-packages (from progressbar2) (2.3.0)\n",
      "Requirement already satisfied: gym in /home/hero/gym (0.15.4)\n",
      "Requirement already satisfied: scipy in /home/hero/tf/lib/python3.6/site-packages (from gym) (1.4.1)\n",
      "Requirement already satisfied: numpy>=1.10.4 in /home/hero/tf/lib/python3.6/site-packages (from gym) (1.18.1)\n",
      "Requirement already satisfied: six in /home/hero/tf/lib/python3.6/site-packages (from gym) (1.14.0)\n",
      "Requirement already satisfied: pyglet<=1.3.2,>=1.2.0 in /home/hero/tf/lib/python3.6/site-packages (from gym) (1.3.2)\n",
      "Requirement already satisfied: cloudpickle~=1.2.0 in /home/hero/tf/lib/python3.6/site-packages (from gym) (1.2.2)\n",
      "Requirement already satisfied: future in /home/hero/tf/lib/python3.6/site-packages (from pyglet<=1.3.2,>=1.2.0->gym) (0.18.2)\n"
     ]
    }
   ],
   "source": [
    "#Correr esta celda si se utiliza Google Colab con un ambiente remoto.\n",
    "!pip install progressbar2\n",
    "!pip install gym"
   ]
  },
  {
   "cell_type": "markdown",
   "metadata": {},
   "source": [
    "# Librerías"
   ]
  },
  {
   "cell_type": "code",
   "execution_count": 1,
   "metadata": {},
   "outputs": [
    {
     "name": "stderr",
     "output_type": "stream",
     "text": [
      "Using TensorFlow backend.\n"
     ]
    }
   ],
   "source": [
    "import time, copy, random\n",
    "import numpy as np\n",
    "import pandas as pd\n",
    "\n",
    "import progressbar\n",
    "import gym\n",
    "\n",
    "import tensorflow as tf\n",
    "import keras\n",
    "from keras.models import Sequential\n",
    "from keras.layers import Dense\n",
    "from keras import optimizers\n",
    "from keras.initializers import RandomNormal\n",
    "\n",
    "%matplotlib inline\n",
    "import matplotlib.pyplot as plt"
   ]
  },
  {
   "cell_type": "markdown",
   "metadata": {},
   "source": [
    "# Clases"
   ]
  },
  {
   "cell_type": "code",
   "execution_count": 2,
   "metadata": {},
   "outputs": [],
   "source": [
    "class ExperienceReplay():\n",
    "    def __init__(self, tamano_minimo = 1000, tamano_maximo = 10**5, tamano_batch = 32, column_names = ['St', 'At', 'St+1', 'Rt+1', 'done']):\n",
    "        self.tamano_buffer = 0\n",
    "        self.indice = 0\n",
    "        self.tamano_batch = tamano_batch\n",
    "        self.tamano_minimo = tamano_minimo\n",
    "        self.tamano_maximo = tamano_maximo\n",
    "        self.columnas = column_names\n",
    "        \n",
    "        self.buffer = self.inicializarBuffer()\n",
    "        self.buffer.columns = column_names\n",
    "        #self.indices = range(self.tamano_maximo)\n",
    "    \n",
    "    def inicializarBuffer(self):\n",
    "        aux = pd.DataFrame(np.zeros((10**4,5)), dtype = 'object')\n",
    "        #aux = pd.DataFrame({'St': None, 'At': [np.array([0,0])],\n",
    "        #                   'Rt+1': [np.array([0,0])], 'St+1': [np.array([0,0])],\n",
    "        #                   'done': [np.array([0,0])]})\n",
    "        \n",
    "        buffer = []\n",
    "        \n",
    "        for i in range(int(self.tamano_maximo/10**4)):\n",
    "            buffer.append(aux)\n",
    "        \n",
    "        return pd.concat(buffer)\n",
    "    \n",
    "    def agregarDato(self, x, a, r, xp, d):\n",
    "        \n",
    "        if(self.indice == self.tamano_maximo):\n",
    "            self.indice = 0\n",
    "            \n",
    "        self.buffer.iloc[self.indice]['St'] = x\n",
    "        self.buffer.iloc[self.indice]['At'] = a\n",
    "        self.buffer.iloc[self.indice]['Rt+1'] = r\n",
    "        self.buffer.iloc[self.indice]['St+1'] = xp\n",
    "        self.buffer.iloc[self.indice]['done'] = d\n",
    "\n",
    "        self.indice +=1\n",
    "        \n",
    "        if self.tamano_buffer < self.tamano_maximo:\n",
    "            self.tamano_buffer += 1\n",
    "    \n",
    "    def darMuestras(self):\n",
    "        #indices = random.sample(self.indices[0:self.tamano_buffer], self.tamano_batch)\n",
    "        indices = random.sample(range(self.tamano_buffer), self.tamano_batch)\n",
    "        return self.buffer.iloc[indices]\n"
   ]
  },
  {
   "cell_type": "markdown",
   "metadata": {},
   "source": [
    "# Table Lookup"
   ]
  },
  {
   "cell_type": "markdown",
   "metadata": {},
   "source": [
    "Pendulum-v0<br /> \n",
    "Utilizando el algoritmo de Sarsa.<br />\n",
    "Está como chambón pero funciona."
   ]
  },
  {
   "cell_type": "code",
   "execution_count": null,
   "metadata": {},
   "outputs": [],
   "source": [
    "def darIndice(pS):\n",
    "    return int(round(pS, 1)*10+10)\n",
    "\n",
    "def escogerAccion(pS1, pS2, pS3):\n",
    "    num = np.random.random()\n",
    "    \n",
    "    if(num <= epsilon):\n",
    "        ind = np.random.randint(0,41)\n",
    "        return ind\n",
    "    else:\n",
    "        ind = np.where(tablaQ[pS1, pS2, pS3, :] == np.amax(tablaQ[pS1, pS2, pS3, :]))\n",
    "        ind = ind[0]\n",
    "        \n",
    "        if(len(ind) > 1):\n",
    "            return np.random.choice(ind)\n",
    "        else:\n",
    "            return ind\n",
    "    \n",
    "    return accion"
   ]
  },
  {
   "cell_type": "code",
   "execution_count": null,
   "metadata": {
    "scrolled": true
   },
   "outputs": [],
   "source": [
    "envName = 'Pendulum-v0'\n",
    "\n",
    "g = 0.9\n",
    "alpha = 0.5\n",
    "epsilon = 0.1 #Entre 0 y 1\n",
    "maxIter = 1500000\n",
    "ventana = 100\n",
    "epsilonIterLimit = maxIter*0.9\n",
    "\n",
    "tablaQ = np.ones((21,21,17,41))*-16\n",
    "rewards = np.zeros(int(maxIter/10))\n",
    "\n",
    "env = gym.make(envName)\n",
    "observation = env.reset()\n",
    "\n",
    "s1 = darIndice(observation[0])\n",
    "s2 = darIndice(observation[1])\n",
    "s3 = int(round(observation[2], 0) + 8)\n",
    "a = escogerAccion(s1, s2, s3)\n",
    "\n",
    "suma = 0\n",
    "\n",
    "for i in progressbar.progressbar(range(maxIter)):\n",
    "    \n",
    "    if(i > maxIter-2000):\n",
    "        env.render()\n",
    "    \n",
    "    observation, reward, done, info = env.step([(a-20)/10.0])\n",
    "    observation = np.reshape(observation, (3,))\n",
    "    \n",
    "    s1p = darIndice(observation[0])\n",
    "    s2p = darIndice(observation[1])\n",
    "    s3p = int(round(observation[2], 0) + 8)\n",
    "    \n",
    "    ap = escogerAccion(s1p, s2p, s3p)\n",
    "    \n",
    "    r = reward #Por ahora\n",
    "    suma+=r\n",
    "    \n",
    "    if(i % ventana == 0):\n",
    "        rewards[int(i/ventana)] = suma/ventana\n",
    "        suma = 0\n",
    "    \n",
    "    tablaQ[s1, s2, s3, a] = tablaQ[s1, s2, s3, a] + alpha*(r + g*tablaQ[s1p, s2p, s3p, ap] - tablaQ[s1,s2,s3,a])\n",
    "    \n",
    "    s1 = s1p\n",
    "    s2 = s2p\n",
    "    s3 = s3p\n",
    "    a = ap\n",
    "    \n",
    "    if(i > epsilonIterLimit):\n",
    "        epsilon = 0\n",
    "    \n",
    "env.close()"
   ]
  },
  {
   "cell_type": "code",
   "execution_count": null,
   "metadata": {},
   "outputs": [],
   "source": [
    "for i in progressbar.progressbar(range(2000)):\n",
    "    env.render()\n",
    "    \n",
    "    observation, reward, done, info = env.step([(a-20)/10.0])\n",
    "    observation = np.reshape(observation, (3,))\n",
    "    \n",
    "    s1p = darIndice(observation[0])\n",
    "    s2p = darIndice(observation[1])\n",
    "    s3p = int(round(observation[2], 0) + 8)\n",
    "    \n",
    "    ap = escogerAccion(s1p, s2p, s3p)\n",
    "    \n",
    "    r = reward #Por ahora\n",
    "    suma+=r\n",
    "    \n",
    "    if(i % ventana == 0):\n",
    "        rewards[int(i/ventana)] = suma/ventana\n",
    "        suma = 0\n",
    "    \n",
    "    tablaQ[s1, s2, s3, a] = tablaQ[s1, s2, s3, a] + alpha*(r + g*tablaQ[s1p, s2p, s3p, ap] - tablaQ[s1,s2,s3,a])\n",
    "    \n",
    "    s1 = s1p\n",
    "    s2 = s2p\n",
    "    s3 = s3p\n",
    "    a = ap\n",
    "    \n",
    "env.close()"
   ]
  },
  {
   "cell_type": "markdown",
   "metadata": {},
   "source": [
    "# DQN"
   ]
  },
  {
   "cell_type": "code",
   "execution_count": 3,
   "metadata": {},
   "outputs": [
    {
     "name": "stderr",
     "output_type": "stream",
     "text": [
      "/home/hero/gym/gym/logger.py:30: UserWarning: \u001b[33mWARN: Box bound precision lowered by casting to float32\u001b[0m\n",
      "  warnings.warn(colorize('%s: %s'%('WARN', msg % args), 'yellow'))\n"
     ]
    }
   ],
   "source": [
    "envName = 'Pendulum-v0'\n",
    "env = gym.make(envName) \n",
    "\n",
    "num_acciones = 41\n",
    "dim_state = 3\n",
    "\n",
    "#Creando redes neuronales\n",
    "def crearRedes(n1 = 20, n2 = num_acciones, learning_rate = 0.01):\n",
    "    init = RandomNormal(seed = 0)\n",
    "    \n",
    "    modelo = Sequential()\n",
    "    \n",
    "    modelo.add(Dense(n1, activation = 'relu', kernel_initializer = init, bias_initializer = init, input_dim = dim_state))\n",
    "    modelo.add(Dense(n1, activation = 'relu', kernel_initializer = init, bias_initializer = init))\n",
    "    modelo.add(Dense(n2, activation = 'linear', kernel_initializer = init, bias_initializer = init))\n",
    "    \n",
    "    sgd = optimizers.sgd(lr = learning_rate)\n",
    "    \n",
    "    modelo.compile(loss = 'mean_squared_error', optimizer = sgd, metrics = ['accuracy'])\n",
    "    \n",
    "    return modelo, copy.deepcopy(modelo)\n",
    "\n",
    "def actualizarRedTarget(pRedPrincipal, pRedTarget):\n",
    "    \n",
    "    for i in range(len(pRedPrincipal.layers)):\n",
    "        pesosPrincipal = pRedPrincipal.layers[i].get_weights()\n",
    "        pesosTarget = pRedTarget.layers[i].get_weights()\n",
    "        \n",
    "        pesos = [tao*l1 + (1-tao)*l2 for l1, l2 in zip(pesosPrincipal, pesosTarget)]\n",
    "        \n",
    "        pRedTarget.layers[i].set_weights(pesos)\n",
    "\n",
    "def escogerAccion(pModelo, pX):\n",
    "    num = np.random.random()\n",
    "    \n",
    "    if(num <= epsilon):\n",
    "        ind = np.random.randint(0, num_acciones)\n",
    "        return ind\n",
    "    else:\n",
    "        ind = np.argmax(pModelo.predict(pX))\n",
    "        return ind"
   ]
  },
  {
   "cell_type": "markdown",
   "metadata": {},
   "source": [
    "# Entrenando el Agente"
   ]
  },
  {
   "cell_type": "code",
   "execution_count": 17,
   "metadata": {
    "scrolled": true
   },
   "outputs": [
    {
     "name": "stderr",
     "output_type": "stream",
     "text": [
      "100% (2000 of 2000) |####################| Elapsed Time: 0:00:01 Time:  0:00:01\n",
      "100% (500 of 500) |######################| Elapsed Time: 0:09:44 Time:  0:09:44\n"
     ]
    },
    {
     "name": "stdout",
     "output_type": "stream",
     "text": [
      "Total training time:  585.86 seconds\n"
     ]
    },
    {
     "data": {
      "image/png": "[encoded data removed]",
      "text/plain": [
       "<Figure size 720x288 with 2 Axes>"
      ]
     },
     "metadata": {
      "needs_background": "light"
     },
     "output_type": "display_data"
    },
    {
     "data": {
      "image/png": "[encoded data removed]",
      "text/plain": [
       "<Figure size 720x288 with 1 Axes>"
      ]
     },
     "metadata": {
      "needs_background": "light"
     },
     "output_type": "display_data"
    }
   ],
   "source": [
    "np.random.seed(123)\n",
    "\n",
    "buffer = ExperienceReplay(tamano_minimo = 2000)\n",
    "\n",
    "red, red_target = crearRedes(learning_rate = 0.05)\n",
    "\n",
    "num_episodes = 500\n",
    "num_steps = 500\n",
    "epsilon = 1.0\n",
    "epsilon_decay = 0.995\n",
    "tao = 0.001\n",
    "gamma = 0.99\n",
    "batch_size = 32\n",
    "\n",
    "total_steps_log = []\n",
    "epsilon_log = []\n",
    "muestras_log = []\n",
    "rewards_acumulados = []\n",
    "\n",
    "state = env.reset()\n",
    "\n",
    "state[2] *= 1/8.0\n",
    "state = np.reshape(state, (1,-1))\n",
    "\n",
    "initial_time = time.time()\n",
    "\n",
    "for s in progressbar.progressbar(range(buffer.tamano_minimo)):\n",
    "    action = np.random.randint(num_acciones)\n",
    "    \n",
    "    next_state, reward, done, info = env.step([(action-20.0)/10.0])\n",
    "    next_state[2] *= 1/8.0\n",
    "    next_state = np.reshape(next_state, (1, -1))\n",
    "    \n",
    "    buffer.agregarDato(state, action, reward, next_state, done)\n",
    "    \n",
    "    state = next_state\n",
    "\n",
    "for e in progressbar.progressbar(range(num_episodes)):\n",
    "    state = env.reset()\n",
    "    state[2] *= 1/8.0\n",
    "    state = np.reshape(state, (1, -1))\n",
    "    \n",
    "    rewardAcumulado = 0\n",
    "    \n",
    "    for s in range(num_steps):\n",
    "        if(np.random.random() <= epsilon):\n",
    "            action = np.random.randint(num_acciones)\n",
    "        else:\n",
    "            action = np.argmax(red.predict(state))\n",
    "            \n",
    "        next_state, reward, done, info = env.step([(action-20.0)/10.0])\n",
    "        next_state[2] *= 1/8.0\n",
    "        next_state = np.reshape(next_state, (1, -1))\n",
    "        \n",
    "        buffer.agregarDato(state, action, reward, next_state, done)\n",
    "       \n",
    "        state = next_state\n",
    "        \n",
    "        sumaMuestras = 0\n",
    "        \n",
    "        tm = time.time()\n",
    "        muestras = buffer.darMuestras()\n",
    "        sumaMuestras += time.time()-tm\n",
    "\n",
    "        states = np.concatenate(muestras['St'].values)\n",
    "        actions = muestras['At'].values\n",
    "        rewards = muestras['Rt+1'].values\n",
    "        next_states = np.concatenate(muestras['St+1'].values)\n",
    "        dones = muestras['done'].values\n",
    "\n",
    "        Q_values = red.predict(states)\n",
    "\n",
    "        next_Q_values = red_target.predict(next_states)\n",
    "        targets = Q_values.copy()   # Set initial target values\n",
    "\n",
    "        targets[np.arange(buffer.tamano_batch), list(actions)] = rewards + gamma* np.max(next_Q_values, axis = 1) * (1 - dones)\n",
    "\n",
    "        red.train_on_batch(states, targets)\n",
    "\n",
    "        actualizarRedTarget(red, red_target)\n",
    "\n",
    "        rewardAcumulado += reward\n",
    "        \n",
    "        if(done):\n",
    "            break    \n",
    "    \n",
    "    sumaMuestras *= 1/float(s)\n",
    "    muestras_log.append(sumaMuestras)\n",
    "    rewards_acumulados.append(rewardAcumulado)\n",
    "    \n",
    "    total_steps_log.append(s)\n",
    "    epsilon_log.append(epsilon)\n",
    "    epsilon = epsilon_decay * epsilon\n",
    "\n",
    "total_training_time = time.time() - initial_time\n",
    "\n",
    "plt.figure(figsize=(10,4))\n",
    "\n",
    "plt.subplot(121)\n",
    "plt.plot(muestras_log)\n",
    "plt.xlabel('Episode')\n",
    "plt.ylabel('Sample time (seg)')\n",
    "\n",
    "plt.subplot(122)\n",
    "plt.plot(epsilon_log)\n",
    "plt.xlabel('Episode')\n",
    "plt.ylabel('Epsilon')\n",
    "\n",
    "plt.figure(figsize=(10,4))\n",
    "plt.plot(rewards_acumulados)\n",
    "plt.xlabel('Episode')\n",
    "plt.ylabel('Reward')\n",
    "\n",
    "print('Total training time: ', np.round(total_training_time, 2), 'seconds')"
   ]
  },
  {
   "cell_type": "markdown",
   "metadata": {},
   "source": [
    "# Probando el Agente"
   ]
  },
  {
   "cell_type": "code",
   "execution_count": 20,
   "metadata": {},
   "outputs": [],
   "source": [
    "steps_prueba = 250\n",
    "\n",
    "state = env.reset()\n",
    "state[2] *= 1/8.0\n",
    "state = np.reshape(state, (1, -1))\n",
    "\n",
    "for s in range(steps_prueba):\n",
    "    \n",
    "    action = np.argmax(red.predict(state))\n",
    "    state, reward, done, info = env.step([(action-20.0)/10.0])\n",
    "    \n",
    "    state[2] *= 1/8.0\n",
    "    state = np.reshape(state, (1, -1))\n",
    "\n",
    "    env.render()\n",
    "    \n",
    "env.close()"
   ]
  },
  {
   "cell_type": "code",
   "execution_count": null,
   "metadata": {},
   "outputs": [],
   "source": []
  }
 ],
 "metadata": {
  "kernelspec": {
   "display_name": "Python 3",
   "language": "python",
   "name": "python3"
  },
  "language_info": {
   "codemirror_mode": {
    "name": "ipython",
    "version": 3
   },
   "file_extension": ".py",
   "mimetype": "text/x-python",
   "name": "python",
   "nbconvert_exporter": "python",
   "pygments_lexer": "ipython3",
   "version": "3.6.9"
  }
 },
 "nbformat": 4,
 "nbformat_minor": 2
}
