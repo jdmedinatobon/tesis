{
 "cells": [
  {
   "cell_type": "markdown",
   "metadata": {},
   "source": [
    "Este archivo es para implementar algunos algoritmos de aprendizaje por refuerzo y aplicarlos utilizando Open AI gym.\n",
    "\n",
    "Se van a probar los siguientes 2 entornos (environments), de acuerdo con los resultados presentados en el articulo de Diego:\n",
    "\n",
    "Pendulum-v0 y Hopper-v2"
   ]
  },
  {
   "cell_type": "markdown",
   "metadata": {},
   "source": [
    "Tareas (Puede cambiar):\n",
    "1. Terminar el curso de David Silver. (Completo: 100%)\n",
    "2. Implementar con table lookup. (Completo: 100%)\n",
    "3. Implementar con DQN. (En progreso: Aun no funciona)\n",
    "4. Implementar con Simglucose (Sin comenzar)\n",
    "5. Implementar con el trabajo de Diego."
   ]
  },
  {
   "cell_type": "markdown",
   "metadata": {},
   "source": [
    "# Librerías"
   ]
  },
  {
   "cell_type": "code",
   "execution_count": 1,
   "metadata": {},
   "outputs": [
    {
     "name": "stderr",
     "output_type": "stream",
     "text": [
      "Using TensorFlow backend.\n"
     ]
    }
   ],
   "source": [
    "import gym\n",
    "import time\n",
    "import numpy as np\n",
    "import progressbar\n",
    "import copy\n",
    "\n",
    "import tensorflow as tf\n",
    "import keras\n",
    "from keras.models import Sequential\n",
    "from keras.layers import Dense\n",
    "from keras import optimizers\n",
    "from keras.initializers import RandomNormal\n",
    "\n",
    "%matplotlib inline\n",
    "import matplotlib.pyplot as plt"
   ]
  },
  {
   "cell_type": "markdown",
   "metadata": {},
   "source": [
    "# Clases"
   ]
  },
  {
   "cell_type": "code",
   "execution_count": 2,
   "metadata": {},
   "outputs": [],
   "source": [
    "class ExperienceReplay():\n",
    "    def __init__(self, tamano_minimo = 1000, tamano_maximo = 10**6, tamano_batch = 32):\n",
    "        self.tamano_buffer = 0\n",
    "        self.tamano_batch = tamano_batch\n",
    "        self.tamano_minimo = tamano_minimo\n",
    "        self.tamano_maximo = tamano_maximo\n",
    "        self.buffer = np.empty(1)\n",
    "        \n",
    "    def agregarDato(self, x, a, r, xp):\n",
    "        dato = dict({'St':x, 'At':a, 'Rt+1':r, 'St+1':xp})\n",
    "        \n",
    "        if(self.tamano_buffer == 0):\n",
    "            self.buffer = np.append(self.buffer, dato)\n",
    "            self.buffer = np.delete(self.buffer, 0)\n",
    "            self.tamano_buffer = 1\n",
    "        else:\n",
    "            self.buffer = np.append(self.buffer, dato)\n",
    "            self.tamano_buffer += 1\n",
    "        \n",
    "        if(self.tamano_buffer > self.tamano_maximo):\n",
    "            self.buffer = np.delete(self.buffer, 0)\n",
    "            self.tamano_buffer -= 1\n",
    "            \n",
    "    \n",
    "    def darMuestras(self):\n",
    "        indices = np.random.choice(range(self.tamano_buffer), size = self.tamano_batch, replace = False)\n",
    "        return self.buffer[indices]"
   ]
  },
  {
   "cell_type": "markdown",
   "metadata": {},
   "source": [
    "# Table Lookup"
   ]
  },
  {
   "cell_type": "markdown",
   "metadata": {},
   "source": [
    "Pendulum-v0<br /> \n",
    "Utilizando el algoritmo de Sarsa.<br />\n",
    "Está como chambón pero funciona."
   ]
  },
  {
   "cell_type": "code",
   "execution_count": null,
   "metadata": {},
   "outputs": [],
   "source": [
    "def darIndice(pS):\n",
    "    return int(round(pS, 1)*10+10)\n",
    "\n",
    "def escogerAccion(pS1, pS2, pS3):\n",
    "    num = np.random.random()\n",
    "    \n",
    "    if(num <= epsilon):\n",
    "        ind = np.random.randint(0,41)\n",
    "        return ind\n",
    "    else:\n",
    "        ind = np.where(tablaQ[pS1, pS2, pS3, :] == np.amax(tablaQ[pS1, pS2, pS3, :]))\n",
    "        ind = ind[0]\n",
    "        \n",
    "        if(len(ind) > 1):\n",
    "            return np.random.choice(ind)\n",
    "        else:\n",
    "            return ind\n",
    "    \n",
    "    return accion"
   ]
  },
  {
   "cell_type": "code",
   "execution_count": null,
   "metadata": {
    "scrolled": true
   },
   "outputs": [],
   "source": [
    "envName = 'Pendulum-v0'\n",
    "\n",
    "g = 0.9\n",
    "alpha = 0.5\n",
    "epsilon = 0.1 #Entre 0 y 1\n",
    "maxIter = 1500000\n",
    "ventana = 100\n",
    "epsilonIterLimit = maxIter*0.9\n",
    "\n",
    "tablaQ = np.ones((21,21,17,41))*-16\n",
    "rewards = np.zeros(int(maxIter/10))\n",
    "\n",
    "env = gym.make(envName)\n",
    "observation = env.reset()\n",
    "\n",
    "s1 = darIndice(observation[0])\n",
    "s2 = darIndice(observation[1])\n",
    "s3 = int(round(observation[2], 0) + 8)\n",
    "a = escogerAccion(s1, s2, s3)\n",
    "\n",
    "suma = 0\n",
    "\n",
    "for i in progressbar.progressbar(range(maxIter)):\n",
    "    \n",
    "    if(i > maxIter-2000):\n",
    "        env.render()\n",
    "    \n",
    "    observation, reward, done, info = env.step([(a-20)/10.0])\n",
    "    observation = np.reshape(observation, (3,))\n",
    "    \n",
    "    s1p = darIndice(observation[0])\n",
    "    s2p = darIndice(observation[1])\n",
    "    s3p = int(round(observation[2], 0) + 8)\n",
    "    \n",
    "    ap = escogerAccion(s1p, s2p, s3p)\n",
    "    \n",
    "    r = reward #Por ahora\n",
    "    suma+=r\n",
    "    \n",
    "    if(i % ventana == 0):\n",
    "        rewards[int(i/ventana)] = suma/ventana\n",
    "        suma = 0\n",
    "    \n",
    "    tablaQ[s1, s2, s3, a] = tablaQ[s1, s2, s3, a] + alpha*(r + g*tablaQ[s1p, s2p, s3p, ap] - tablaQ[s1,s2,s3,a])\n",
    "    \n",
    "    s1 = s1p\n",
    "    s2 = s2p\n",
    "    s3 = s3p\n",
    "    a = ap\n",
    "    \n",
    "    if(i > epsilonIterLimit):\n",
    "        epsilon = 0\n",
    "    \n",
    "env.close()"
   ]
  },
  {
   "cell_type": "code",
   "execution_count": null,
   "metadata": {},
   "outputs": [],
   "source": [
    "for i in progressbar.progressbar(range(2000)):\n",
    "    env.render()\n",
    "    \n",
    "    observation, reward, done, info = env.step([(a-20)/10.0])\n",
    "    observation = np.reshape(observation, (3,))\n",
    "    \n",
    "    s1p = darIndice(observation[0])\n",
    "    s2p = darIndice(observation[1])\n",
    "    s3p = int(round(observation[2], 0) + 8)\n",
    "    \n",
    "    ap = escogerAccion(s1p, s2p, s3p)\n",
    "    \n",
    "    r = reward #Por ahora\n",
    "    suma+=r\n",
    "    \n",
    "    if(i % ventana == 0):\n",
    "        rewards[int(i/ventana)] = suma/ventana\n",
    "        suma = 0\n",
    "    \n",
    "    tablaQ[s1, s2, s3, a] = tablaQ[s1, s2, s3, a] + alpha*(r + g*tablaQ[s1p, s2p, s3p, ap] - tablaQ[s1,s2,s3,a])\n",
    "    \n",
    "    s1 = s1p\n",
    "    s2 = s2p\n",
    "    s3 = s3p\n",
    "    a = ap\n",
    "    \n",
    "env.close()"
   ]
  },
  {
   "cell_type": "markdown",
   "metadata": {},
   "source": [
    "# DQN"
   ]
  },
  {
   "cell_type": "code",
   "execution_count": 37,
   "metadata": {},
   "outputs": [],
   "source": [
    "#Creando redes neuronales\n",
    "def crearRedes(n1 = 20, n2 = 41, learning_rate = 0.01):\n",
    "    init = RandomNormal(seed = 0)\n",
    "    \n",
    "    modelo = Sequential()\n",
    "    \n",
    "    modelo.add(Dense(n1, activation = 'relu', kernel_initializer = init, bias_initializer = init, input_dim = 3))\n",
    "    modelo.add(Dense(n2, activation = 'linear', kernel_initializer = init, bias_initializer = init))\n",
    "    \n",
    "    sgd = optimizers.sgd(lr = learning_rate)\n",
    "    \n",
    "    modelo.compile(loss = 'mean_squared_error', optimizer = sgd, metrics = ['accuracy'])\n",
    "    \n",
    "    return modelo, copy.deepcopy(modelo)\n",
    "\n",
    "def actualizarRedTarget(pRedPrincipal, pRedTarget):\n",
    "    \n",
    "    for i in range(len(pRedPrincipal.layers)):\n",
    "        pesosPrincipal = pRedPrincipal.layers[i].get_weights()\n",
    "        pesosTarget = pRedTarget.layers[i].get_weights()\n",
    "        \n",
    "        pesos = [tao*l1 + (1-tao)*l2 for l1, l2 in zip(pesosPrincipal, pesosTarget)]\n",
    "        \n",
    "        pRedTarget.layers[i].set_weights(pesos)\n",
    "\n",
    "def escogerAccion(pModelo, pX):\n",
    "    num = np.random.random()\n",
    "    \n",
    "    if(num <= epsilon):\n",
    "        ind = np.random.randint(0,41)\n",
    "        return ind\n",
    "    else:\n",
    "        ind = np.argmax(pModelo.predict(pX))\n",
    "        return ind"
   ]
  },
  {
   "cell_type": "code",
   "execution_count": 42,
   "metadata": {},
   "outputs": [
    {
     "name": "stderr",
     "output_type": "stream",
     "text": [
      "100% (1000 of 1000) |####################| Elapsed Time: 0:00:00 Time:  0:00:00\n",
      "100% (1000 of 1000) |####################| Elapsed Time: 0:01:10 Time:  0:01:10\n"
     ]
    }
   ],
   "source": [
    "envName = 'Pendulum-v0'\n",
    "\n",
    "modeloPrincipal, modeloTarget = crearRedes(learning_rate = 0.01)\n",
    "\n",
    "#Con los parametros default.\n",
    "buffer = ExperienceReplay()\n",
    "\n",
    "gamma = 0.99\n",
    "alpha = 0.35\n",
    "epsilon = 1#Entre 0 y 1\n",
    "epsilonDecay = 0.99\n",
    "tao = 0.001\n",
    "\n",
    "episodes = 1000\n",
    "stepsPrueba = 500\n",
    "maxSteps = 10\n",
    "contadores = np.zeros((1,41))\n",
    "\n",
    "rewardsAcumulados = np.zeros(episodes)\n",
    "\n",
    "env = gym.make(envName)\n",
    "observation = env.reset()\n",
    "\n",
    "x = np.reshape(observation, (1,3))\n",
    "x[0,2] = x[0,2]/8.0\n",
    "\n",
    "a = escogerAccion(modeloPrincipal, x)\n",
    "\n",
    "#Este es un for inicial donde se almacena la cantidad minima de datos requerida en el buffer\n",
    "#antes de comenzar con el entrenamiento.\n",
    "for i in progressbar.progressbar(range(buffer.tamano_minimo)):\n",
    "    observation, reward, done, info = env.step([(a-20.0)/10.0])\n",
    "    \n",
    "    xp = np.reshape(observation, (1,3))\n",
    "    xp[0,2] = xp[0,2]/8.0\n",
    "    x = xp\n",
    "    \n",
    "    buffer.agregarDato(x, a, reward, xp)\n",
    "    \n",
    "    #epsilon es 1 asi que siempre va a escoger al azar.\n",
    "    a = escogerAccion(modeloPrincipal, x)\n",
    "    \n",
    "for e in progressbar.progressbar(range(episodes)):\n",
    "    rewardAcumulado = 0\n",
    "    env = gym.make(envName)\n",
    "    observation = env.reset()\n",
    "    x = np.reshape(observation, (1,3))\n",
    "    x[0,2] = x[0,2]/8.0\n",
    "    a = escogerAccion(modeloPrincipal, x)\n",
    "    \n",
    "    for s in range(maxSteps):\n",
    "        observation, reward, done, info = env.step([(a-20.0)/10.0])\n",
    "        \n",
    "        rewardAcumulado += reward\n",
    "        \n",
    "        xp = observation\n",
    "        xp = np.reshape(xp, (1,3))\n",
    "        xp[0,2] = xp[0,2]/8.0\n",
    "\n",
    "        buffer.agregarDato(x, a, reward, xp)\n",
    "\n",
    "        muestras = buffer.darMuestras()\n",
    "\n",
    "        #Pasar esto a un metodo solito\n",
    "        xEnt = np.empty((1,3))\n",
    "        aEnt = np.empty(1)\n",
    "        rEnt = np.empty(1)\n",
    "        xpEnt = np.empty((1,3))\n",
    "\n",
    "        for m in muestras:\n",
    "            xEnt = np.append(xEnt, m.get('St'), axis = 0)\n",
    "            aEnt = np.append(aEnt, [m.get('At')], axis = 0)\n",
    "            rEnt = np.append(rEnt, [m.get('Rt+1')], axis = 0)\n",
    "            xpEnt = np.append(xpEnt, m.get('St+1'), axis = 0)\n",
    "\n",
    "        xEnt = np.delete(xEnt, 0, axis = 0)\n",
    "        aEnt = np.delete(aEnt, 0, axis = 0)\n",
    "        rEnt = np.delete(rEnt, 0, axis = 0)\n",
    "        xpEnt = np.delete(xpEnt, 0, axis = 0)\n",
    "\n",
    "        qValores = modeloPrincipal.predict(xEnt)\n",
    "\n",
    "        qValoresTarget = modeloTarget.predict(xEnt)\n",
    "        maxQvalores = np.amax(qValoresTarget, axis = 1)\n",
    "\n",
    "        #Aqui hay que calcular el maximo\n",
    "        targets = np.add(rEnt, gamma*maxQvalores)\n",
    "\n",
    "        yEnt = qValores\n",
    "\n",
    "        for j in range(buffer.tamano_batch):\n",
    "            yEnt[j,int(aEnt[j])] = targets[j]\n",
    "\n",
    "        modeloPrincipal.fit(xEnt, yEnt, verbose = 0)\n",
    "        actualizarRedTarget(modeloPrincipal, modeloTarget)\n",
    "\n",
    "        x = xp\n",
    "        a = escogerAccion(modeloPrincipal, x)\n",
    "\n",
    "    epsilon = epsilon*epsilonDecay\n",
    "    rewardsAcumulados[e] = rewardAcumulado\n",
    "\n",
    "env = gym.make(envName)\n",
    "observation = env.reset()\n",
    "x = np.reshape(observation, (1,3))\n",
    "x[0,2] = x[0,2]/8.0\n",
    "a = escogerAccion(modeloPrincipal, x)    \n",
    "    \n",
    "for s in range(stepsPrueba):\n",
    "    \n",
    "    observation, reward, done, info = env.step([(a-20.0)/10.0])\n",
    "    \n",
    "    env.render()\n",
    "    \n",
    "    xp = observation\n",
    "    xp = np.reshape(xp, (1,3))\n",
    "    xp[0,2] = xp[0,2]/8.0\n",
    "    \n",
    "    a = escogerAccion(modeloPrincipal, xp)\n",
    "    \n",
    "env.close()"
   ]
  },
  {
   "cell_type": "code",
   "execution_count": 43,
   "metadata": {},
   "outputs": [
    {
     "data": {
      "image/png": "[encoded data removed]",
      "text/plain": [
       "<Figure size 432x288 with 1 Axes>"
      ]
     },
     "metadata": {
      "needs_background": "light"
     },
     "output_type": "display_data"
    }
   ],
   "source": [
    "plt.plot(rewardsAcumulados)\n",
    "plt.xlabel('Episode')\n",
    "plt.ylabel('Reward Acumulado')\n",
    "plt.show()"
   ]
  },
  {
   "cell_type": "code",
   "execution_count": 49,
   "metadata": {},
   "outputs": [
    {
     "data": {
      "text/plain": [
       "array([-2.], dtype=float32)"
      ]
     },
     "execution_count": 49,
     "metadata": {},
     "output_type": "execute_result"
    }
   ],
   "source": [
    "env.action_space.low"
   ]
  },
  {
   "cell_type": "code",
   "execution_count": 23,
   "metadata": {},
   "outputs": [],
   "source": [
    "test1 = modeloPrincipal.layers[1].get_weights()\n",
    "test2 = modeloTarget.layers[1].get_weights()"
   ]
  },
  {
   "cell_type": "code",
   "execution_count": 24,
   "metadata": {},
   "outputs": [],
   "source": [
    "test3 = [l1*tao + l2*(1-tao) for l1, l2 in zip(test1, test2)]"
   ]
  },
  {
   "cell_type": "code",
   "execution_count": 36,
   "metadata": {},
   "outputs": [],
   "source": [
    "modeloTarget.layers[1].set_weights(test2)"
   ]
  },
  {
   "cell_type": "code",
   "execution_count": 35,
   "metadata": {},
   "outputs": [
    {
     "data": {
      "text/plain": [
       "(20, 41)"
      ]
     },
     "execution_count": 35,
     "metadata": {},
     "output_type": "execute_result"
    }
   ],
   "source": [
    "#Creando redes neuronales\n",
    "def crearRedes(n1 = 20, n2 = 4, learning_rate = 0.01):\n",
    "    init = RandomNormal(seed = 0)\n",
    "    \n",
    "    modelo = Sequential()\n",
    "    \n",
    "    modelo.add(Dense(n1, activation = 'relu', kernel_initializer = init, bias_initializer = init, input_dim = 3))\n",
    "    modelo.add(Dense(n2, activation = 'linear', kernel_initializer = init, bias_initializer = init))\n",
    "    \n",
    "    sgd = optimizers.sgd(lr = learning_rate)\n",
    "    \n",
    "    modelo.compile(loss = 'mean_squared_error', optimizer = sgd, metrics = ['accuracy'])\n",
    "    \n",
    "    return modelo, copy.deepcopy(modelo)\n",
    "\n",
    "def actualizarRedTarget(pRedPrincipal, pRedTarget):\n",
    "    \n",
    "    for i in range(len(pRedPrincipal.layers)):\n",
    "        pesosPrincipal = pRedPrincipal.layers[i].get_weights()\n",
    "        pesosTarget = pRedTarget.layers[i].get_weights()\n",
    "        \n",
    "        pesos = [tao*l1 + (1-tao)*l2 for l1, l2 in zip(pesosPrincipal, pesosTarget)]\n",
    "        \n",
    "        pRedTarget.layers[i].set_weights(pesos)\n",
    "\n",
    "def escogerAccion(pModelo, pX):\n",
    "    num = np.random.random()\n",
    "    \n",
    "    if(num <= epsilon):\n",
    "        ind = np.random.randint(0,41)\n",
    "        return ind\n",
    "    else:\n",
    "        ind = np.argmax(pModelo.predict(pX))\n",
    "        return ind"
   ]
  },
  {
   "cell_type": "code",
   "execution_count": 16,
   "metadata": {},
   "outputs": [],
   "source": [
    "env = Grid_World()      \n",
    "\n",
    "modeloPrincipal, modeloTarget = crearRedes(learning_rate = 0.01)\n",
    "\n",
    "#Con los parametros default.\n",
    "buffer = ExperienceReplay()\n",
    "\n",
    "gamma = 0.99\n",
    "alpha = 0.35\n",
    "epsilon = 1#Entre 0 y 1\n",
    "epsilonDecay = 0.99\n",
    "tao = 0.001\n",
    "\n",
    "episodes = 1000\n",
    "stepsPrueba = 500\n",
    "maxSteps = 10\n",
    "contadores = np.zeros((1,41))\n",
    "\n",
    "rewardsAcumulados = np.zeros(episodes)\n",
    "\n",
    "observation = env.reset()\n",
    "\n",
    "x = np.reshape(observation, (1,3))\n",
    "x[0,2] = x[0,2]/8.0\n",
    "\n",
    "a = escogerAccion(modeloPrincipal, x)\n",
    "\n",
    "#Este es un for inicial donde se almacena la cantidad minima de datos requerida en el buffer\n",
    "#antes de comenzar con el entrenamiento.\n",
    "for i in progressbar.progressbar(range(buffer.tamano_minimo)):\n",
    "    observation, reward, done, info = env.step([(a-20.0)/10.0])\n",
    "    \n",
    "    xp = np.reshape(observation, (1,3))\n",
    "    xp[0,2] = xp[0,2]/8.0\n",
    "    x = xp\n",
    "    \n",
    "    buffer.agregarDato(x, a, reward, xp)\n",
    "    \n",
    "    #epsilon es 1 asi que siempre va a escoger al azar.\n",
    "    a = escogerAccion(modeloPrincipal, x)\n",
    "    \n",
    "for e in progressbar.progressbar(range(episodes)):\n",
    "    rewardAcumulado = 0\n",
    "    env = gym.make(envName)\n",
    "    observation = env.reset()\n",
    "    x = np.reshape(observation, (1,3))\n",
    "    x[0,2] = x[0,2]/8.0\n",
    "    a = escogerAccion(modeloPrincipal, x)\n",
    "    \n",
    "    for s in range(maxSteps):\n",
    "        observation, reward, done, info = env.step([(a-20.0)/10.0])\n",
    "        \n",
    "        rewardAcumulado += reward\n",
    "        \n",
    "        xp = observation\n",
    "        xp = np.reshape(xp, (1,3))\n",
    "        xp[0,2] = xp[0,2]/8.0\n",
    "\n",
    "        buffer.agregarDato(x, a, reward, xp)\n",
    "\n",
    "        muestras = buffer.darMuestras()\n",
    "\n",
    "        #Pasar esto a un metodo solito\n",
    "        xEnt = np.empty((1,3))\n",
    "        aEnt = np.empty(1)\n",
    "        rEnt = np.empty(1)\n",
    "        xpEnt = np.empty((1,3))\n",
    "\n",
    "        for m in muestras:\n",
    "            xEnt = np.append(xEnt, m.get('St'), axis = 0)\n",
    "            aEnt = np.append(aEnt, [m.get('At')], axis = 0)\n",
    "            rEnt = np.append(rEnt, [m.get('Rt+1')], axis = 0)\n",
    "            xpEnt = np.append(xpEnt, m.get('St+1'), axis = 0)\n",
    "\n",
    "        xEnt = np.delete(xEnt, 0, axis = 0)\n",
    "        aEnt = np.delete(aEnt, 0, axis = 0)\n",
    "        rEnt = np.delete(rEnt, 0, axis = 0)\n",
    "        xpEnt = np.delete(xpEnt, 0, axis = 0)\n",
    "\n",
    "        qValores = modeloPrincipal.predict(xEnt)\n",
    "\n",
    "        qValoresTarget = modeloTarget.predict(xEnt)\n",
    "        maxQvalores = np.amax(qValoresTarget, axis = 1)\n",
    "\n",
    "        #Aqui hay que calcular el maximo\n",
    "        targets = np.add(rEnt, gamma*maxQvalores)\n",
    "\n",
    "        yEnt = qValores\n",
    "\n",
    "        for j in range(buffer.tamano_batch):\n",
    "            yEnt[j,int(aEnt[j])] = targets[j]\n",
    "\n",
    "        modeloPrincipal.fit(xEnt, yEnt, verbose = 0)\n",
    "        actualizarRedTarget(modeloPrincipal, modeloTarget)\n",
    "\n",
    "        x = xp\n",
    "        a = escogerAccion(modeloPrincipal, x)\n",
    "\n",
    "    epsilon = epsilon*epsilonDecay\n",
    "    rewardsAcumulados[e] = rewardAcumulado\n",
    "\n",
    "env = gym.make(envName)\n",
    "observation = env.reset()\n",
    "x = np.reshape(observation, (1,3))\n",
    "x[0,2] = x[0,2]/8.0\n",
    "a = escogerAccion(modeloPrincipal, x)    \n",
    "    \n",
    "for s in range(stepsPrueba):\n",
    "    \n",
    "    observation, reward, done, info = env.step([(a-20.0)/10.0])\n",
    "    \n",
    "    env.render()\n",
    "    \n",
    "    xp = observation\n",
    "    xp = np.reshape(xp, (1,3))\n",
    "    xp[0,2] = xp[0,2]/8.0\n",
    "    \n",
    "    a = escogerAccion(modeloPrincipal, xp)\n",
    "    \n",
    "env.close()"
   ]
  },
  {
   "cell_type": "code",
   "execution_count": 3,
   "metadata": {},
   "outputs": [
    {
     "data": {
      "text/plain": [
       "4.317124741065786e-05"
      ]
     },
     "execution_count": 3,
     "metadata": {},
     "output_type": "execute_result"
    }
   ],
   "source": [
    "0.99**1000"
   ]
  },
  {
   "cell_type": "code",
   "execution_count": 159,
   "metadata": {},
   "outputs": [
    {
     "data": {
      "text/plain": [
       "(2,)"
      ]
     },
     "execution_count": 159,
     "metadata": {},
     "output_type": "execute_result"
    }
   ],
   "source": [
    "aEnt.shape"
   ]
  },
  {
   "cell_type": "code",
   "execution_count": 6,
   "metadata": {},
   "outputs": [
    {
     "data": {
      "text/plain": [
       "array([[ 618.,  266.,  253.,  333., 1241.,  345.,  308.,  830., 1303.,\n",
       "         797.,  452.,  332.,  983.,  149.,  362.,  178., 3307.,  268.,\n",
       "         438., 1041.,  542.,  413.,  586.,  630.,  830.,  494.,  925.,\n",
       "        1385., 1835.,  428.,  368.,  713.,  669.,  751., 1593.,  508.,\n",
       "         770., 1066.,  255., 1183.,  252.]])"
      ]
     },
     "execution_count": 6,
     "metadata": {},
     "output_type": "execute_result"
    }
   ],
   "source": [
    "contadores"
   ]
  },
  {
   "cell_type": "code",
   "execution_count": 21,
   "metadata": {},
   "outputs": [
    {
     "data": {
      "text/plain": [
       "0.006736262610603238"
      ]
     },
     "execution_count": 21,
     "metadata": {},
     "output_type": "execute_result"
    }
   ],
   "source": [
    "0.9999**50000"
   ]
  },
  {
   "cell_type": "code",
   "execution_count": null,
   "metadata": {
    "scrolled": true
   },
   "outputs": [],
   "source": [
    "import gym\n",
    "env = gym.make('Pendulum-v0')\n",
    "for i_episode in range(20):\n",
    "    observation = env.reset()\n",
    "    for t in range(10):\n",
    "        env.render()\n",
    "        print(observation)\n",
    "        action = env.action_space.sample()\n",
    "        observation, reward, done, info = env.step(action)\n",
    "        if done:\n",
    "            print(\"Episode finished after {} timesteps\".format(t+1))\n",
    "            break\n",
    "env.close()"
   ]
  },
  {
   "cell_type": "code",
   "execution_count": null,
   "metadata": {},
   "outputs": [],
   "source": [
    "print(env.observation_space)\n",
    "print(env.action_space)"
   ]
  },
  {
   "cell_type": "code",
   "execution_count": null,
   "metadata": {},
   "outputs": [],
   "source": [
    "print(env.observation_space.high)\n",
    "print(env.observation_space.low)"
   ]
  },
  {
   "cell_type": "code",
   "execution_count": null,
   "metadata": {},
   "outputs": [],
   "source": [
    "np.random.random()"
   ]
  },
  {
   "cell_type": "code",
   "execution_count": null,
   "metadata": {},
   "outputs": [],
   "source": [
    "np.random.randint(0,6)"
   ]
  },
  {
   "cell_type": "code",
   "execution_count": null,
   "metadata": {},
   "outputs": [],
   "source": [
    "test = np.array([10,22,50,-1,50])"
   ]
  },
  {
   "cell_type": "code",
   "execution_count": null,
   "metadata": {},
   "outputs": [],
   "source": [
    "test3 = np.where(test == np.amax(test))"
   ]
  },
  {
   "cell_type": "code",
   "execution_count": null,
   "metadata": {},
   "outputs": [],
   "source": [
    "len(test3[0])"
   ]
  },
  {
   "cell_type": "code",
   "execution_count": null,
   "metadata": {},
   "outputs": [],
   "source": [
    "rewards[10/10]"
   ]
  },
  {
   "cell_type": "code",
   "execution_count": 43,
   "metadata": {},
   "outputs": [
    {
     "data": {
      "text/plain": [
       "0.0"
      ]
     },
     "execution_count": 43,
     "metadata": {},
     "output_type": "execute_result"
    }
   ],
   "source": [
    "rewards[300]"
   ]
  },
  {
   "cell_type": "code",
   "execution_count": 58,
   "metadata": {},
   "outputs": [
    {
     "data": {
      "text/plain": [
       "2000"
      ]
     },
     "execution_count": 58,
     "metadata": {},
     "output_type": "execute_result"
    }
   ],
   "source": [
    "buffer.tamano_buffer"
   ]
  },
  {
   "cell_type": "code",
   "execution_count": null,
   "metadata": {},
   "outputs": [],
   "source": []
  }
 ],
 "metadata": {
  "kernelspec": {
   "display_name": "Python 3",
   "language": "python",
   "name": "python3"
  },
  "language_info": {
   "codemirror_mode": {
    "name": "ipython",
    "version": 3
   },
   "file_extension": ".py",
   "mimetype": "text/x-python",
   "name": "python",
   "nbconvert_exporter": "python",
   "pygments_lexer": "ipython3",
   "version": "3.6.9"
  }
 },
 "nbformat": 4,
 "nbformat_minor": 2
}
